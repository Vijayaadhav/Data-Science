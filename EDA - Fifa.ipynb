{
 "cells": [
  {
   "cell_type": "markdown",
   "metadata": {},
   "source": [
    "## Fifa team formation"
   ]
  },
  {
   "cell_type": "markdown",
   "metadata": {},
   "source": [
    "A new football club named ‘Brussels United FC’ has just been inaugurated. This club does not have a team yet. The team is looking to hire players for their roster. \n",
    "\n",
    "The aim of this analysis is to help the management to form a footbal team for the new club."
   ]
  },
  {
   "cell_type": "code",
   "execution_count": 250,
   "metadata": {},
   "outputs": [],
   "source": [
    "import numpy as np\n",
    "import pandas as pd\n",
    "import matplotlib.pyplot as plt\n",
    "import seaborn as sns\n",
    "%matplotlib inline"
   ]
  },
  {
   "cell_type": "code",
   "execution_count": 251,
   "metadata": {},
   "outputs": [],
   "source": [
    "fifa = pd.read_csv('fifa.csv') "
   ]
  },
  {
   "cell_type": "code",
   "execution_count": 252,
   "metadata": {},
   "outputs": [
    {
     "data": {
      "text/html": [
       "<div>\n",
       "<style scoped>\n",
       "    .dataframe tbody tr th:only-of-type {\n",
       "        vertical-align: middle;\n",
       "    }\n",
       "\n",
       "    .dataframe tbody tr th {\n",
       "        vertical-align: top;\n",
       "    }\n",
       "\n",
       "    .dataframe thead th {\n",
       "        text-align: right;\n",
       "    }\n",
       "</style>\n",
       "<table border=\"1\" class=\"dataframe\">\n",
       "  <thead>\n",
       "    <tr style=\"text-align: right;\">\n",
       "      <th></th>\n",
       "      <th>ID</th>\n",
       "      <th>Name</th>\n",
       "      <th>Age</th>\n",
       "      <th>Photo</th>\n",
       "      <th>Nationality</th>\n",
       "      <th>Flag</th>\n",
       "      <th>Overall</th>\n",
       "      <th>Potential</th>\n",
       "      <th>Club</th>\n",
       "      <th>Club Logo</th>\n",
       "      <th>...</th>\n",
       "      <th>Composure</th>\n",
       "      <th>Marking</th>\n",
       "      <th>StandingTackle</th>\n",
       "      <th>SlidingTackle</th>\n",
       "      <th>GKDiving</th>\n",
       "      <th>GKHandling</th>\n",
       "      <th>GKKicking</th>\n",
       "      <th>GKPositioning</th>\n",
       "      <th>GKReflexes</th>\n",
       "      <th>Release Clause</th>\n",
       "    </tr>\n",
       "  </thead>\n",
       "  <tbody>\n",
       "    <tr>\n",
       "      <th>0</th>\n",
       "      <td>158023</td>\n",
       "      <td>L. Messi</td>\n",
       "      <td>31</td>\n",
       "      <td>https://cdn.sofifa.org/players/4/19/158023.png</td>\n",
       "      <td>Argentina</td>\n",
       "      <td>https://cdn.sofifa.org/flags/52.png</td>\n",
       "      <td>94</td>\n",
       "      <td>94</td>\n",
       "      <td>FC Barcelona</td>\n",
       "      <td>https://cdn.sofifa.org/teams/2/light/241.png</td>\n",
       "      <td>...</td>\n",
       "      <td>96.0</td>\n",
       "      <td>33.0</td>\n",
       "      <td>28.0</td>\n",
       "      <td>26.0</td>\n",
       "      <td>6.0</td>\n",
       "      <td>11.0</td>\n",
       "      <td>15.0</td>\n",
       "      <td>14.0</td>\n",
       "      <td>8.0</td>\n",
       "      <td>€226.5M</td>\n",
       "    </tr>\n",
       "    <tr>\n",
       "      <th>1</th>\n",
       "      <td>20801</td>\n",
       "      <td>Cristiano Ronaldo</td>\n",
       "      <td>33</td>\n",
       "      <td>https://cdn.sofifa.org/players/4/19/20801.png</td>\n",
       "      <td>Portugal</td>\n",
       "      <td>https://cdn.sofifa.org/flags/38.png</td>\n",
       "      <td>94</td>\n",
       "      <td>94</td>\n",
       "      <td>Juventus</td>\n",
       "      <td>https://cdn.sofifa.org/teams/2/light/45.png</td>\n",
       "      <td>...</td>\n",
       "      <td>95.0</td>\n",
       "      <td>28.0</td>\n",
       "      <td>31.0</td>\n",
       "      <td>23.0</td>\n",
       "      <td>7.0</td>\n",
       "      <td>11.0</td>\n",
       "      <td>15.0</td>\n",
       "      <td>14.0</td>\n",
       "      <td>11.0</td>\n",
       "      <td>€127.1M</td>\n",
       "    </tr>\n",
       "    <tr>\n",
       "      <th>2</th>\n",
       "      <td>190871</td>\n",
       "      <td>Neymar Jr</td>\n",
       "      <td>26</td>\n",
       "      <td>https://cdn.sofifa.org/players/4/19/190871.png</td>\n",
       "      <td>Brazil</td>\n",
       "      <td>https://cdn.sofifa.org/flags/54.png</td>\n",
       "      <td>92</td>\n",
       "      <td>93</td>\n",
       "      <td>Paris Saint-Germain</td>\n",
       "      <td>https://cdn.sofifa.org/teams/2/light/73.png</td>\n",
       "      <td>...</td>\n",
       "      <td>94.0</td>\n",
       "      <td>27.0</td>\n",
       "      <td>24.0</td>\n",
       "      <td>33.0</td>\n",
       "      <td>9.0</td>\n",
       "      <td>9.0</td>\n",
       "      <td>15.0</td>\n",
       "      <td>15.0</td>\n",
       "      <td>11.0</td>\n",
       "      <td>€228.1M</td>\n",
       "    </tr>\n",
       "    <tr>\n",
       "      <th>3</th>\n",
       "      <td>193080</td>\n",
       "      <td>De Gea</td>\n",
       "      <td>27</td>\n",
       "      <td>https://cdn.sofifa.org/players/4/19/193080.png</td>\n",
       "      <td>Spain</td>\n",
       "      <td>https://cdn.sofifa.org/flags/45.png</td>\n",
       "      <td>91</td>\n",
       "      <td>93</td>\n",
       "      <td>Manchester United</td>\n",
       "      <td>https://cdn.sofifa.org/teams/2/light/11.png</td>\n",
       "      <td>...</td>\n",
       "      <td>68.0</td>\n",
       "      <td>15.0</td>\n",
       "      <td>21.0</td>\n",
       "      <td>13.0</td>\n",
       "      <td>90.0</td>\n",
       "      <td>85.0</td>\n",
       "      <td>87.0</td>\n",
       "      <td>88.0</td>\n",
       "      <td>94.0</td>\n",
       "      <td>€138.6M</td>\n",
       "    </tr>\n",
       "    <tr>\n",
       "      <th>4</th>\n",
       "      <td>192985</td>\n",
       "      <td>K. De Bruyne</td>\n",
       "      <td>27</td>\n",
       "      <td>https://cdn.sofifa.org/players/4/19/192985.png</td>\n",
       "      <td>Belgium</td>\n",
       "      <td>https://cdn.sofifa.org/flags/7.png</td>\n",
       "      <td>91</td>\n",
       "      <td>92</td>\n",
       "      <td>Manchester City</td>\n",
       "      <td>https://cdn.sofifa.org/teams/2/light/10.png</td>\n",
       "      <td>...</td>\n",
       "      <td>88.0</td>\n",
       "      <td>68.0</td>\n",
       "      <td>58.0</td>\n",
       "      <td>51.0</td>\n",
       "      <td>15.0</td>\n",
       "      <td>13.0</td>\n",
       "      <td>5.0</td>\n",
       "      <td>10.0</td>\n",
       "      <td>13.0</td>\n",
       "      <td>€196.4M</td>\n",
       "    </tr>\n",
       "  </tbody>\n",
       "</table>\n",
       "<p>5 rows × 60 columns</p>\n",
       "</div>"
      ],
      "text/plain": [
       "       ID               Name  Age  \\\n",
       "0  158023           L. Messi   31   \n",
       "1   20801  Cristiano Ronaldo   33   \n",
       "2  190871          Neymar Jr   26   \n",
       "3  193080             De Gea   27   \n",
       "4  192985       K. De Bruyne   27   \n",
       "\n",
       "                                            Photo Nationality  \\\n",
       "0  https://cdn.sofifa.org/players/4/19/158023.png   Argentina   \n",
       "1   https://cdn.sofifa.org/players/4/19/20801.png    Portugal   \n",
       "2  https://cdn.sofifa.org/players/4/19/190871.png      Brazil   \n",
       "3  https://cdn.sofifa.org/players/4/19/193080.png       Spain   \n",
       "4  https://cdn.sofifa.org/players/4/19/192985.png     Belgium   \n",
       "\n",
       "                                  Flag  Overall  Potential  \\\n",
       "0  https://cdn.sofifa.org/flags/52.png       94         94   \n",
       "1  https://cdn.sofifa.org/flags/38.png       94         94   \n",
       "2  https://cdn.sofifa.org/flags/54.png       92         93   \n",
       "3  https://cdn.sofifa.org/flags/45.png       91         93   \n",
       "4   https://cdn.sofifa.org/flags/7.png       91         92   \n",
       "\n",
       "                  Club                                     Club Logo  ...  \\\n",
       "0         FC Barcelona  https://cdn.sofifa.org/teams/2/light/241.png  ...   \n",
       "1             Juventus   https://cdn.sofifa.org/teams/2/light/45.png  ...   \n",
       "2  Paris Saint-Germain   https://cdn.sofifa.org/teams/2/light/73.png  ...   \n",
       "3    Manchester United   https://cdn.sofifa.org/teams/2/light/11.png  ...   \n",
       "4      Manchester City   https://cdn.sofifa.org/teams/2/light/10.png  ...   \n",
       "\n",
       "  Composure Marking StandingTackle  SlidingTackle  GKDiving  GKHandling  \\\n",
       "0      96.0    33.0           28.0           26.0       6.0        11.0   \n",
       "1      95.0    28.0           31.0           23.0       7.0        11.0   \n",
       "2      94.0    27.0           24.0           33.0       9.0         9.0   \n",
       "3      68.0    15.0           21.0           13.0      90.0        85.0   \n",
       "4      88.0    68.0           58.0           51.0      15.0        13.0   \n",
       "\n",
       "  GKKicking GKPositioning GKReflexes  Release Clause  \n",
       "0      15.0          14.0        8.0         €226.5M  \n",
       "1      15.0          14.0       11.0         €127.1M  \n",
       "2      15.0          15.0       11.0         €228.1M  \n",
       "3      87.0          88.0       94.0         €138.6M  \n",
       "4       5.0          10.0       13.0         €196.4M  \n",
       "\n",
       "[5 rows x 60 columns]"
      ]
     },
     "execution_count": 252,
     "metadata": {},
     "output_type": "execute_result"
    }
   ],
   "source": [
    "fifa.head(5)"
   ]
  },
  {
   "cell_type": "code",
   "execution_count": 253,
   "metadata": {},
   "outputs": [],
   "source": [
    "fifa_metadata = pd.read_csv('fifa_+variable_information.csv')"
   ]
  },
  {
   "cell_type": "code",
   "execution_count": null,
   "metadata": {},
   "outputs": [],
   "source": [
    "fifa_metadata"
   ]
  },
  {
   "cell_type": "markdown",
   "metadata": {},
   "source": [
    "* There are 42 numerical columns and 18 categorical columns"
   ]
  },
  {
   "cell_type": "code",
   "execution_count": 255,
   "metadata": {},
   "outputs": [
    {
     "data": {
      "text/html": [
       "<div>\n",
       "<style scoped>\n",
       "    .dataframe tbody tr th:only-of-type {\n",
       "        vertical-align: middle;\n",
       "    }\n",
       "\n",
       "    .dataframe tbody tr th {\n",
       "        vertical-align: top;\n",
       "    }\n",
       "\n",
       "    .dataframe thead th {\n",
       "        text-align: right;\n",
       "    }\n",
       "</style>\n",
       "<table border=\"1\" class=\"dataframe\">\n",
       "  <thead>\n",
       "    <tr style=\"text-align: right;\">\n",
       "      <th></th>\n",
       "      <th>ID</th>\n",
       "      <th>Age</th>\n",
       "      <th>Overall</th>\n",
       "      <th>Potential</th>\n",
       "      <th>International Reputation</th>\n",
       "      <th>Weak Foot</th>\n",
       "      <th>Skill Moves</th>\n",
       "      <th>Jersey Number</th>\n",
       "      <th>Crossing</th>\n",
       "      <th>Finishing</th>\n",
       "      <th>...</th>\n",
       "      <th>Penalties</th>\n",
       "      <th>Composure</th>\n",
       "      <th>Marking</th>\n",
       "      <th>StandingTackle</th>\n",
       "      <th>SlidingTackle</th>\n",
       "      <th>GKDiving</th>\n",
       "      <th>GKHandling</th>\n",
       "      <th>GKKicking</th>\n",
       "      <th>GKPositioning</th>\n",
       "      <th>GKReflexes</th>\n",
       "    </tr>\n",
       "  </thead>\n",
       "  <tbody>\n",
       "    <tr>\n",
       "      <th>count</th>\n",
       "      <td>18207.000000</td>\n",
       "      <td>18207.000000</td>\n",
       "      <td>18207.000000</td>\n",
       "      <td>18207.000000</td>\n",
       "      <td>18159.000000</td>\n",
       "      <td>18159.000000</td>\n",
       "      <td>18159.000000</td>\n",
       "      <td>18147.000000</td>\n",
       "      <td>18159.000000</td>\n",
       "      <td>18159.000000</td>\n",
       "      <td>...</td>\n",
       "      <td>18159.000000</td>\n",
       "      <td>18159.000000</td>\n",
       "      <td>18159.000000</td>\n",
       "      <td>18159.000000</td>\n",
       "      <td>18159.000000</td>\n",
       "      <td>18159.000000</td>\n",
       "      <td>18159.000000</td>\n",
       "      <td>18159.000000</td>\n",
       "      <td>18159.000000</td>\n",
       "      <td>18159.000000</td>\n",
       "    </tr>\n",
       "    <tr>\n",
       "      <th>mean</th>\n",
       "      <td>214298.338606</td>\n",
       "      <td>25.122206</td>\n",
       "      <td>66.238699</td>\n",
       "      <td>71.307299</td>\n",
       "      <td>1.113222</td>\n",
       "      <td>2.947299</td>\n",
       "      <td>2.361308</td>\n",
       "      <td>19.546096</td>\n",
       "      <td>49.734181</td>\n",
       "      <td>45.550911</td>\n",
       "      <td>...</td>\n",
       "      <td>48.548598</td>\n",
       "      <td>58.648274</td>\n",
       "      <td>47.281623</td>\n",
       "      <td>47.697836</td>\n",
       "      <td>45.661435</td>\n",
       "      <td>16.616223</td>\n",
       "      <td>16.391596</td>\n",
       "      <td>16.232061</td>\n",
       "      <td>16.388898</td>\n",
       "      <td>16.710887</td>\n",
       "    </tr>\n",
       "    <tr>\n",
       "      <th>std</th>\n",
       "      <td>29965.244204</td>\n",
       "      <td>4.669943</td>\n",
       "      <td>6.908930</td>\n",
       "      <td>6.136496</td>\n",
       "      <td>0.394031</td>\n",
       "      <td>0.660456</td>\n",
       "      <td>0.756164</td>\n",
       "      <td>15.947765</td>\n",
       "      <td>18.364524</td>\n",
       "      <td>19.525820</td>\n",
       "      <td>...</td>\n",
       "      <td>15.704053</td>\n",
       "      <td>11.436133</td>\n",
       "      <td>19.904397</td>\n",
       "      <td>21.664004</td>\n",
       "      <td>21.289135</td>\n",
       "      <td>17.695349</td>\n",
       "      <td>16.906900</td>\n",
       "      <td>16.502864</td>\n",
       "      <td>17.034669</td>\n",
       "      <td>17.955119</td>\n",
       "    </tr>\n",
       "    <tr>\n",
       "      <th>min</th>\n",
       "      <td>16.000000</td>\n",
       "      <td>16.000000</td>\n",
       "      <td>46.000000</td>\n",
       "      <td>48.000000</td>\n",
       "      <td>1.000000</td>\n",
       "      <td>1.000000</td>\n",
       "      <td>1.000000</td>\n",
       "      <td>1.000000</td>\n",
       "      <td>5.000000</td>\n",
       "      <td>2.000000</td>\n",
       "      <td>...</td>\n",
       "      <td>5.000000</td>\n",
       "      <td>3.000000</td>\n",
       "      <td>3.000000</td>\n",
       "      <td>2.000000</td>\n",
       "      <td>3.000000</td>\n",
       "      <td>1.000000</td>\n",
       "      <td>1.000000</td>\n",
       "      <td>1.000000</td>\n",
       "      <td>1.000000</td>\n",
       "      <td>1.000000</td>\n",
       "    </tr>\n",
       "    <tr>\n",
       "      <th>25%</th>\n",
       "      <td>200315.500000</td>\n",
       "      <td>21.000000</td>\n",
       "      <td>62.000000</td>\n",
       "      <td>67.000000</td>\n",
       "      <td>1.000000</td>\n",
       "      <td>3.000000</td>\n",
       "      <td>2.000000</td>\n",
       "      <td>8.000000</td>\n",
       "      <td>38.000000</td>\n",
       "      <td>30.000000</td>\n",
       "      <td>...</td>\n",
       "      <td>39.000000</td>\n",
       "      <td>51.000000</td>\n",
       "      <td>30.000000</td>\n",
       "      <td>27.000000</td>\n",
       "      <td>24.000000</td>\n",
       "      <td>8.000000</td>\n",
       "      <td>8.000000</td>\n",
       "      <td>8.000000</td>\n",
       "      <td>8.000000</td>\n",
       "      <td>8.000000</td>\n",
       "    </tr>\n",
       "    <tr>\n",
       "      <th>50%</th>\n",
       "      <td>221759.000000</td>\n",
       "      <td>25.000000</td>\n",
       "      <td>66.000000</td>\n",
       "      <td>71.000000</td>\n",
       "      <td>1.000000</td>\n",
       "      <td>3.000000</td>\n",
       "      <td>2.000000</td>\n",
       "      <td>17.000000</td>\n",
       "      <td>54.000000</td>\n",
       "      <td>49.000000</td>\n",
       "      <td>...</td>\n",
       "      <td>49.000000</td>\n",
       "      <td>60.000000</td>\n",
       "      <td>53.000000</td>\n",
       "      <td>55.000000</td>\n",
       "      <td>52.000000</td>\n",
       "      <td>11.000000</td>\n",
       "      <td>11.000000</td>\n",
       "      <td>11.000000</td>\n",
       "      <td>11.000000</td>\n",
       "      <td>11.000000</td>\n",
       "    </tr>\n",
       "    <tr>\n",
       "      <th>75%</th>\n",
       "      <td>236529.500000</td>\n",
       "      <td>28.000000</td>\n",
       "      <td>71.000000</td>\n",
       "      <td>75.000000</td>\n",
       "      <td>1.000000</td>\n",
       "      <td>3.000000</td>\n",
       "      <td>3.000000</td>\n",
       "      <td>26.000000</td>\n",
       "      <td>64.000000</td>\n",
       "      <td>62.000000</td>\n",
       "      <td>...</td>\n",
       "      <td>60.000000</td>\n",
       "      <td>67.000000</td>\n",
       "      <td>64.000000</td>\n",
       "      <td>66.000000</td>\n",
       "      <td>64.000000</td>\n",
       "      <td>14.000000</td>\n",
       "      <td>14.000000</td>\n",
       "      <td>14.000000</td>\n",
       "      <td>14.000000</td>\n",
       "      <td>14.000000</td>\n",
       "    </tr>\n",
       "    <tr>\n",
       "      <th>max</th>\n",
       "      <td>246620.000000</td>\n",
       "      <td>45.000000</td>\n",
       "      <td>94.000000</td>\n",
       "      <td>95.000000</td>\n",
       "      <td>5.000000</td>\n",
       "      <td>5.000000</td>\n",
       "      <td>5.000000</td>\n",
       "      <td>99.000000</td>\n",
       "      <td>93.000000</td>\n",
       "      <td>95.000000</td>\n",
       "      <td>...</td>\n",
       "      <td>92.000000</td>\n",
       "      <td>96.000000</td>\n",
       "      <td>94.000000</td>\n",
       "      <td>93.000000</td>\n",
       "      <td>91.000000</td>\n",
       "      <td>90.000000</td>\n",
       "      <td>92.000000</td>\n",
       "      <td>91.000000</td>\n",
       "      <td>90.000000</td>\n",
       "      <td>94.000000</td>\n",
       "    </tr>\n",
       "  </tbody>\n",
       "</table>\n",
       "<p>8 rows × 42 columns</p>\n",
       "</div>"
      ],
      "text/plain": [
       "                  ID           Age       Overall     Potential  \\\n",
       "count   18207.000000  18207.000000  18207.000000  18207.000000   \n",
       "mean   214298.338606     25.122206     66.238699     71.307299   \n",
       "std     29965.244204      4.669943      6.908930      6.136496   \n",
       "min        16.000000     16.000000     46.000000     48.000000   \n",
       "25%    200315.500000     21.000000     62.000000     67.000000   \n",
       "50%    221759.000000     25.000000     66.000000     71.000000   \n",
       "75%    236529.500000     28.000000     71.000000     75.000000   \n",
       "max    246620.000000     45.000000     94.000000     95.000000   \n",
       "\n",
       "       International Reputation     Weak Foot   Skill Moves  Jersey Number  \\\n",
       "count              18159.000000  18159.000000  18159.000000   18147.000000   \n",
       "mean                   1.113222      2.947299      2.361308      19.546096   \n",
       "std                    0.394031      0.660456      0.756164      15.947765   \n",
       "min                    1.000000      1.000000      1.000000       1.000000   \n",
       "25%                    1.000000      3.000000      2.000000       8.000000   \n",
       "50%                    1.000000      3.000000      2.000000      17.000000   \n",
       "75%                    1.000000      3.000000      3.000000      26.000000   \n",
       "max                    5.000000      5.000000      5.000000      99.000000   \n",
       "\n",
       "           Crossing     Finishing  ...     Penalties     Composure  \\\n",
       "count  18159.000000  18159.000000  ...  18159.000000  18159.000000   \n",
       "mean      49.734181     45.550911  ...     48.548598     58.648274   \n",
       "std       18.364524     19.525820  ...     15.704053     11.436133   \n",
       "min        5.000000      2.000000  ...      5.000000      3.000000   \n",
       "25%       38.000000     30.000000  ...     39.000000     51.000000   \n",
       "50%       54.000000     49.000000  ...     49.000000     60.000000   \n",
       "75%       64.000000     62.000000  ...     60.000000     67.000000   \n",
       "max       93.000000     95.000000  ...     92.000000     96.000000   \n",
       "\n",
       "            Marking  StandingTackle  SlidingTackle      GKDiving  \\\n",
       "count  18159.000000    18159.000000   18159.000000  18159.000000   \n",
       "mean      47.281623       47.697836      45.661435     16.616223   \n",
       "std       19.904397       21.664004      21.289135     17.695349   \n",
       "min        3.000000        2.000000       3.000000      1.000000   \n",
       "25%       30.000000       27.000000      24.000000      8.000000   \n",
       "50%       53.000000       55.000000      52.000000     11.000000   \n",
       "75%       64.000000       66.000000      64.000000     14.000000   \n",
       "max       94.000000       93.000000      91.000000     90.000000   \n",
       "\n",
       "         GKHandling     GKKicking  GKPositioning    GKReflexes  \n",
       "count  18159.000000  18159.000000   18159.000000  18159.000000  \n",
       "mean      16.391596     16.232061      16.388898     16.710887  \n",
       "std       16.906900     16.502864      17.034669     17.955119  \n",
       "min        1.000000      1.000000       1.000000      1.000000  \n",
       "25%        8.000000      8.000000       8.000000      8.000000  \n",
       "50%       11.000000     11.000000      11.000000     11.000000  \n",
       "75%       14.000000     14.000000      14.000000     14.000000  \n",
       "max       92.000000     91.000000      90.000000     94.000000  \n",
       "\n",
       "[8 rows x 42 columns]"
      ]
     },
     "execution_count": 255,
     "metadata": {},
     "output_type": "execute_result"
    }
   ],
   "source": [
    "fifa.describe()"
   ]
  },
  {
   "cell_type": "markdown",
   "metadata": {},
   "source": [
    "* This shows the summary statistics of all the numerical features"
   ]
  },
  {
   "cell_type": "markdown",
   "metadata": {},
   "source": [
    "## Data Preprocessing:"
   ]
  },
  {
   "cell_type": "markdown",
   "metadata": {},
   "source": [
    "#### Redundant columns:"
   ]
  },
  {
   "cell_type": "markdown",
   "metadata": {},
   "source": [
    "There are some columns present which provides redundant information. Hence those columns are dropped."
   ]
  },
  {
   "cell_type": "code",
   "execution_count": 256,
   "metadata": {
    "scrolled": true
   },
   "outputs": [],
   "source": [
    "rel = fifa['Release Clause']\n",
    "fifa = fifa.iloc[:,1:25]"
   ]
  },
  {
   "cell_type": "code",
   "execution_count": 257,
   "metadata": {
    "scrolled": true
   },
   "outputs": [],
   "source": [
    "fifa = pd.concat((fifa,rel),axis = 1)"
   ]
  },
  {
   "cell_type": "code",
   "execution_count": 258,
   "metadata": {},
   "outputs": [],
   "source": [
    "fifa.drop(['Photo','Flag','Club Logo','Body Type','Jersey Number','Loaned From'],inplace = True,axis = 1)"
   ]
  },
  {
   "cell_type": "code",
   "execution_count": 259,
   "metadata": {},
   "outputs": [
    {
     "data": {
      "text/html": [
       "<div>\n",
       "<style scoped>\n",
       "    .dataframe tbody tr th:only-of-type {\n",
       "        vertical-align: middle;\n",
       "    }\n",
       "\n",
       "    .dataframe tbody tr th {\n",
       "        vertical-align: top;\n",
       "    }\n",
       "\n",
       "    .dataframe thead th {\n",
       "        text-align: right;\n",
       "    }\n",
       "</style>\n",
       "<table border=\"1\" class=\"dataframe\">\n",
       "  <thead>\n",
       "    <tr style=\"text-align: right;\">\n",
       "      <th></th>\n",
       "      <th>Name</th>\n",
       "      <th>Age</th>\n",
       "      <th>Nationality</th>\n",
       "      <th>Overall</th>\n",
       "      <th>Potential</th>\n",
       "      <th>Club</th>\n",
       "      <th>Value</th>\n",
       "      <th>Wage</th>\n",
       "      <th>Preferred Foot</th>\n",
       "      <th>International Reputation</th>\n",
       "      <th>Weak Foot</th>\n",
       "      <th>Skill Moves</th>\n",
       "      <th>Work Rate</th>\n",
       "      <th>Position</th>\n",
       "      <th>Joined</th>\n",
       "      <th>Contract Valid Until</th>\n",
       "      <th>Height</th>\n",
       "      <th>Weight</th>\n",
       "      <th>Release Clause</th>\n",
       "    </tr>\n",
       "  </thead>\n",
       "  <tbody>\n",
       "    <tr>\n",
       "      <th>0</th>\n",
       "      <td>L. Messi</td>\n",
       "      <td>31</td>\n",
       "      <td>Argentina</td>\n",
       "      <td>94</td>\n",
       "      <td>94</td>\n",
       "      <td>FC Barcelona</td>\n",
       "      <td>€110.5M</td>\n",
       "      <td>€565K</td>\n",
       "      <td>Left</td>\n",
       "      <td>5.0</td>\n",
       "      <td>4.0</td>\n",
       "      <td>4.0</td>\n",
       "      <td>Medium/ Medium</td>\n",
       "      <td>RF</td>\n",
       "      <td>Jul 1, 2004</td>\n",
       "      <td>2021</td>\n",
       "      <td>5'7</td>\n",
       "      <td>159lbs</td>\n",
       "      <td>€226.5M</td>\n",
       "    </tr>\n",
       "    <tr>\n",
       "      <th>1</th>\n",
       "      <td>Cristiano Ronaldo</td>\n",
       "      <td>33</td>\n",
       "      <td>Portugal</td>\n",
       "      <td>94</td>\n",
       "      <td>94</td>\n",
       "      <td>Juventus</td>\n",
       "      <td>€77M</td>\n",
       "      <td>€405K</td>\n",
       "      <td>Right</td>\n",
       "      <td>5.0</td>\n",
       "      <td>4.0</td>\n",
       "      <td>5.0</td>\n",
       "      <td>High/ Low</td>\n",
       "      <td>ST</td>\n",
       "      <td>Jul 10, 2018</td>\n",
       "      <td>2022</td>\n",
       "      <td>6'2</td>\n",
       "      <td>183lbs</td>\n",
       "      <td>€127.1M</td>\n",
       "    </tr>\n",
       "    <tr>\n",
       "      <th>2</th>\n",
       "      <td>Neymar Jr</td>\n",
       "      <td>26</td>\n",
       "      <td>Brazil</td>\n",
       "      <td>92</td>\n",
       "      <td>93</td>\n",
       "      <td>Paris Saint-Germain</td>\n",
       "      <td>€118.5M</td>\n",
       "      <td>€290K</td>\n",
       "      <td>Right</td>\n",
       "      <td>5.0</td>\n",
       "      <td>5.0</td>\n",
       "      <td>5.0</td>\n",
       "      <td>High/ Medium</td>\n",
       "      <td>LW</td>\n",
       "      <td>Aug 3, 2017</td>\n",
       "      <td>2022</td>\n",
       "      <td>5'9</td>\n",
       "      <td>150lbs</td>\n",
       "      <td>€228.1M</td>\n",
       "    </tr>\n",
       "    <tr>\n",
       "      <th>3</th>\n",
       "      <td>De Gea</td>\n",
       "      <td>27</td>\n",
       "      <td>Spain</td>\n",
       "      <td>91</td>\n",
       "      <td>93</td>\n",
       "      <td>Manchester United</td>\n",
       "      <td>€72M</td>\n",
       "      <td>€260K</td>\n",
       "      <td>Right</td>\n",
       "      <td>4.0</td>\n",
       "      <td>3.0</td>\n",
       "      <td>1.0</td>\n",
       "      <td>Medium/ Medium</td>\n",
       "      <td>GK</td>\n",
       "      <td>Jul 1, 2011</td>\n",
       "      <td>2020</td>\n",
       "      <td>6'4</td>\n",
       "      <td>168lbs</td>\n",
       "      <td>€138.6M</td>\n",
       "    </tr>\n",
       "    <tr>\n",
       "      <th>4</th>\n",
       "      <td>K. De Bruyne</td>\n",
       "      <td>27</td>\n",
       "      <td>Belgium</td>\n",
       "      <td>91</td>\n",
       "      <td>92</td>\n",
       "      <td>Manchester City</td>\n",
       "      <td>€102M</td>\n",
       "      <td>€355K</td>\n",
       "      <td>Right</td>\n",
       "      <td>4.0</td>\n",
       "      <td>5.0</td>\n",
       "      <td>4.0</td>\n",
       "      <td>High/ High</td>\n",
       "      <td>RCM</td>\n",
       "      <td>Aug 30, 2015</td>\n",
       "      <td>2023</td>\n",
       "      <td>5'11</td>\n",
       "      <td>154lbs</td>\n",
       "      <td>€196.4M</td>\n",
       "    </tr>\n",
       "  </tbody>\n",
       "</table>\n",
       "</div>"
      ],
      "text/plain": [
       "                Name  Age Nationality  Overall  Potential  \\\n",
       "0           L. Messi   31   Argentina       94         94   \n",
       "1  Cristiano Ronaldo   33    Portugal       94         94   \n",
       "2          Neymar Jr   26      Brazil       92         93   \n",
       "3             De Gea   27       Spain       91         93   \n",
       "4       K. De Bruyne   27     Belgium       91         92   \n",
       "\n",
       "                  Club    Value   Wage Preferred Foot  \\\n",
       "0         FC Barcelona  €110.5M  €565K           Left   \n",
       "1             Juventus     €77M  €405K          Right   \n",
       "2  Paris Saint-Germain  €118.5M  €290K          Right   \n",
       "3    Manchester United     €72M  €260K          Right   \n",
       "4      Manchester City    €102M  €355K          Right   \n",
       "\n",
       "   International Reputation  Weak Foot  Skill Moves       Work Rate Position  \\\n",
       "0                       5.0        4.0          4.0  Medium/ Medium       RF   \n",
       "1                       5.0        4.0          5.0       High/ Low       ST   \n",
       "2                       5.0        5.0          5.0    High/ Medium       LW   \n",
       "3                       4.0        3.0          1.0  Medium/ Medium       GK   \n",
       "4                       4.0        5.0          4.0      High/ High      RCM   \n",
       "\n",
       "         Joined Contract Valid Until Height  Weight Release Clause  \n",
       "0   Jul 1, 2004                 2021    5'7  159lbs        €226.5M  \n",
       "1  Jul 10, 2018                 2022    6'2  183lbs        €127.1M  \n",
       "2   Aug 3, 2017                 2022    5'9  150lbs        €228.1M  \n",
       "3   Jul 1, 2011                 2020    6'4  168lbs        €138.6M  \n",
       "4  Aug 30, 2015                 2023   5'11  154lbs        €196.4M  "
      ]
     },
     "execution_count": 259,
     "metadata": {},
     "output_type": "execute_result"
    }
   ],
   "source": [
    "fifa.head()"
   ]
  },
  {
   "cell_type": "code",
   "execution_count": 260,
   "metadata": {},
   "outputs": [
    {
     "name": "stdout",
     "output_type": "stream",
     "text": [
      "No of Records: 18207 \n",
      "No of Features 19\n"
     ]
    }
   ],
   "source": [
    "print('No of Records:',fifa.shape[0],'\\nNo of Features',fifa.shape[1])"
   ]
  },
  {
   "cell_type": "markdown",
   "metadata": {},
   "source": [
    "#### Columns Treatment"
   ]
  },
  {
   "cell_type": "markdown",
   "metadata": {},
   "source": [
    "For further analysis ,the data type of the information present in the columns are not suitable. \n",
    "Hence it should be treated and cleaned.\n",
    "\n",
    "It includes both __null value__ treatment and __type conversion__"
   ]
  },
  {
   "cell_type": "code",
   "execution_count": 261,
   "metadata": {},
   "outputs": [
    {
     "data": {
      "text/plain": [
       "Name                           0\n",
       "Age                            0\n",
       "Nationality                    0\n",
       "Overall                        0\n",
       "Potential                      0\n",
       "Club                         241\n",
       "Value                          0\n",
       "Wage                           0\n",
       "Preferred Foot                48\n",
       "International Reputation      48\n",
       "Weak Foot                     48\n",
       "Skill Moves                   48\n",
       "Work Rate                     48\n",
       "Position                      60\n",
       "Joined                      1553\n",
       "Contract Valid Until         289\n",
       "Height                        48\n",
       "Weight                        48\n",
       "Release Clause              1564\n",
       "dtype: int64"
      ]
     },
     "execution_count": 261,
     "metadata": {},
     "output_type": "execute_result"
    }
   ],
   "source": [
    "fifa.isnull().sum()"
   ]
  },
  {
   "cell_type": "code",
   "execution_count": 262,
   "metadata": {},
   "outputs": [],
   "source": [
    "fifa['Club'].fillna('NA',inplace = True)"
   ]
  },
  {
   "cell_type": "code",
   "execution_count": 263,
   "metadata": {},
   "outputs": [
    {
     "data": {
      "text/plain": [
       "Name                           0\n",
       "Age                            0\n",
       "Nationality                    0\n",
       "Overall                        0\n",
       "Potential                      0\n",
       "Club                           0\n",
       "Value                          0\n",
       "Wage                           0\n",
       "Preferred Foot                48\n",
       "International Reputation      48\n",
       "Weak Foot                     48\n",
       "Skill Moves                   48\n",
       "Work Rate                     48\n",
       "Position                      60\n",
       "Joined                      1553\n",
       "Contract Valid Until         289\n",
       "Height                        48\n",
       "Weight                        48\n",
       "Release Clause              1564\n",
       "dtype: int64"
      ]
     },
     "execution_count": 263,
     "metadata": {},
     "output_type": "execute_result"
    }
   ],
   "source": [
    "fifa.isnull().sum()"
   ]
  },
  {
   "cell_type": "code",
   "execution_count": 264,
   "metadata": {
    "scrolled": true
   },
   "outputs": [
    {
     "name": "stdout",
     "output_type": "stream",
     "text": [
      "<class 'pandas.core.frame.DataFrame'>\n",
      "RangeIndex: 18207 entries, 0 to 18206\n",
      "Data columns (total 19 columns):\n",
      " #   Column                    Non-Null Count  Dtype  \n",
      "---  ------                    --------------  -----  \n",
      " 0   Name                      18207 non-null  object \n",
      " 1   Age                       18207 non-null  int64  \n",
      " 2   Nationality               18207 non-null  object \n",
      " 3   Overall                   18207 non-null  int64  \n",
      " 4   Potential                 18207 non-null  int64  \n",
      " 5   Club                      18207 non-null  object \n",
      " 6   Value                     18207 non-null  object \n",
      " 7   Wage                      18207 non-null  object \n",
      " 8   Preferred Foot            18159 non-null  object \n",
      " 9   International Reputation  18159 non-null  float64\n",
      " 10  Weak Foot                 18159 non-null  float64\n",
      " 11  Skill Moves               18159 non-null  float64\n",
      " 12  Work Rate                 18159 non-null  object \n",
      " 13  Position                  18147 non-null  object \n",
      " 14  Joined                    16654 non-null  object \n",
      " 15  Contract Valid Until      17918 non-null  object \n",
      " 16  Height                    18159 non-null  object \n",
      " 17  Weight                    18159 non-null  object \n",
      " 18  Release Clause            16643 non-null  object \n",
      "dtypes: float64(3), int64(3), object(13)\n",
      "memory usage: 2.6+ MB\n"
     ]
    }
   ],
   "source": [
    "fifa.info()"
   ]
  },
  {
   "cell_type": "code",
   "execution_count": 265,
   "metadata": {},
   "outputs": [],
   "source": [
    "fifa['Value'] = fifa['Value'].apply(lambda x: float(x[1:len(x)-1])*1000 if x[-1] == 'M' else x[1:len(x)-1])\n",
    "fifa.rename(columns = {'Value':'Value in thousands'},inplace = True)\n",
    "fifa['Value in thousands'].replace(r'^\\s*$', '0', regex=True, inplace = True)\n",
    "fifa['Value in thousands'] = fifa['Value in thousands'].astype(float)"
   ]
  },
  {
   "cell_type": "code",
   "execution_count": 266,
   "metadata": {},
   "outputs": [],
   "source": [
    "fifa['Wage'] = fifa['Wage'].apply(lambda x: float(x[1:len(x)-1])*1000 if x[-1] == 'M' else x[1:len(x)-1])\n",
    "fifa.rename(columns = {'Wage':'Wage in thousands'},inplace = True)\n",
    "fifa['Wage in thousands'].replace(r'^\\s*$', '0', regex=True, inplace = True)\n",
    "fifa['Wage in thousands'] = fifa['Wage in thousands'].astype(float)"
   ]
  },
  {
   "cell_type": "code",
   "execution_count": 267,
   "metadata": {},
   "outputs": [],
   "source": [
    "fifa['Joined'] = fifa['Joined'].apply(lambda x: x if x is np.nan else x[len(x)-4:len(x)])"
   ]
  },
  {
   "cell_type": "code",
   "execution_count": 268,
   "metadata": {},
   "outputs": [],
   "source": [
    "fifa['Contract Valid Until'] = fifa['Contract Valid Until'].apply(lambda x: x if x is np.nan else x[len(x)-4:len(x)])"
   ]
  },
  {
   "cell_type": "code",
   "execution_count": 269,
   "metadata": {},
   "outputs": [],
   "source": [
    "fifa['Height'] = fifa['Height'].apply(lambda x : x if x is np.nan else x.replace(\"'\",'.')).astype(float)"
   ]
  },
  {
   "cell_type": "code",
   "execution_count": 270,
   "metadata": {},
   "outputs": [],
   "source": [
    "fifa['Weight'] = fifa['Weight'].apply(lambda x : x if x is np.nan else x[0:3]).astype(float) "
   ]
  },
  {
   "cell_type": "code",
   "execution_count": 271,
   "metadata": {},
   "outputs": [],
   "source": [
    "fifa['Release Clause'] = fifa['Release Clause'].replace(np.nan,'0')\n",
    "fifa['Release Clause'] = fifa['Release Clause'].apply(lambda x: float(x[1:len(x)-1])*1000 if x[-1] == 'M' else x[1:len(x)-1])\n",
    "fifa.rename(columns = {'Release Clause':'Release Clause in thousands'},inplace = True)\n",
    "fifa['Release Clause in thousands'].replace(r'^\\s*$', '0', regex=True, inplace = True)\n",
    "fifa['Release Clause in thousands'] = fifa['Release Clause in thousands'].astype(float)"
   ]
  },
  {
   "cell_type": "markdown",
   "metadata": {},
   "source": [
    "* Cleaned the necessary columns into suitable format"
   ]
  },
  {
   "cell_type": "markdown",
   "metadata": {},
   "source": [
    "##### Null Value treatment"
   ]
  },
  {
   "cell_type": "code",
   "execution_count": 272,
   "metadata": {},
   "outputs": [
    {
     "data": {
      "text/plain": [
       "Name                              0\n",
       "Age                               0\n",
       "Nationality                       0\n",
       "Overall                           0\n",
       "Potential                         0\n",
       "Club                              0\n",
       "Value in thousands                0\n",
       "Wage in thousands                 0\n",
       "Preferred Foot                   48\n",
       "International Reputation         48\n",
       "Weak Foot                        48\n",
       "Skill Moves                      48\n",
       "Work Rate                        48\n",
       "Position                         60\n",
       "Joined                         1553\n",
       "Contract Valid Until            289\n",
       "Height                           48\n",
       "Weight                           48\n",
       "Release Clause in thousands       0\n",
       "dtype: int64"
      ]
     },
     "execution_count": 272,
     "metadata": {},
     "output_type": "execute_result"
    }
   ],
   "source": [
    "fifa.isnull().sum()"
   ]
  },
  {
   "cell_type": "code",
   "execution_count": 273,
   "metadata": {},
   "outputs": [],
   "source": [
    "fifa['Preferred Foot'] = fifa['Preferred Foot'].fillna('NA')\n",
    "fifa['Work Rate'] = fifa['Work Rate'].fillna('NA')\n",
    "fifa['Position'] = fifa['Position'].fillna('NA')\n",
    "fifa['Weak Foot'] = fifa['Weak Foot'].fillna(0.0)\n",
    "fifa['International Reputation'] = fifa['International Reputation'].fillna(0.0)\n",
    "fifa['Skill Moves'] = fifa['Skill Moves'].fillna(0.0)\n",
    "fifa['Joined'] = fifa['Joined'].fillna(0).astype(int)\n",
    "fifa['Contract Valid Until'] = fifa['Contract Valid Until'].fillna(0).astype(int)\n",
    "fifa['Weight'] = fifa['Weight'].fillna(fifa['Weight'].median()).astype(float)\n",
    "fifa['Height'] = fifa['Height'].fillna(fifa['Height'].median()).astype(float)"
   ]
  },
  {
   "cell_type": "code",
   "execution_count": null,
   "metadata": {},
   "outputs": [],
   "source": []
  },
  {
   "cell_type": "markdown",
   "metadata": {},
   "source": [
    "* Treated all the null values. \n",
    "* Here categroical columns are filled with __'NA'__ which represents null value.\n",
    "* Numerical columns are filed with __'0'__ or __'0.0'__ which represents null value."
   ]
  },
  {
   "cell_type": "code",
   "execution_count": 274,
   "metadata": {},
   "outputs": [
    {
     "data": {
      "text/plain": [
       "Name                           0\n",
       "Age                            0\n",
       "Nationality                    0\n",
       "Overall                        0\n",
       "Potential                      0\n",
       "Club                           0\n",
       "Value in thousands             0\n",
       "Wage in thousands              0\n",
       "Preferred Foot                 0\n",
       "International Reputation       0\n",
       "Weak Foot                      0\n",
       "Skill Moves                    0\n",
       "Work Rate                      0\n",
       "Position                       0\n",
       "Joined                         0\n",
       "Contract Valid Until           0\n",
       "Height                         0\n",
       "Weight                         0\n",
       "Release Clause in thousands    0\n",
       "dtype: int64"
      ]
     },
     "execution_count": 274,
     "metadata": {},
     "output_type": "execute_result"
    }
   ],
   "source": [
    "fifa.isnull().sum()"
   ]
  },
  {
   "cell_type": "markdown",
   "metadata": {},
   "source": [
    "***"
   ]
  },
  {
   "cell_type": "markdown",
   "metadata": {},
   "source": [
    "## Data Analysis"
   ]
  },
  {
   "cell_type": "code",
   "execution_count": 275,
   "metadata": {},
   "outputs": [
    {
     "data": {
      "text/html": [
       "<div>\n",
       "<style scoped>\n",
       "    .dataframe tbody tr th:only-of-type {\n",
       "        vertical-align: middle;\n",
       "    }\n",
       "\n",
       "    .dataframe tbody tr th {\n",
       "        vertical-align: top;\n",
       "    }\n",
       "\n",
       "    .dataframe thead th {\n",
       "        text-align: right;\n",
       "    }\n",
       "</style>\n",
       "<table border=\"1\" class=\"dataframe\">\n",
       "  <thead>\n",
       "    <tr style=\"text-align: right;\">\n",
       "      <th></th>\n",
       "      <th>Name</th>\n",
       "      <th>Age</th>\n",
       "      <th>Nationality</th>\n",
       "      <th>Overall</th>\n",
       "      <th>Potential</th>\n",
       "      <th>Club</th>\n",
       "      <th>Value in thousands</th>\n",
       "      <th>Wage in thousands</th>\n",
       "      <th>Preferred Foot</th>\n",
       "      <th>International Reputation</th>\n",
       "      <th>Weak Foot</th>\n",
       "      <th>Skill Moves</th>\n",
       "      <th>Work Rate</th>\n",
       "      <th>Position</th>\n",
       "      <th>Joined</th>\n",
       "      <th>Contract Valid Until</th>\n",
       "      <th>Height</th>\n",
       "      <th>Weight</th>\n",
       "      <th>Release Clause in thousands</th>\n",
       "    </tr>\n",
       "  </thead>\n",
       "  <tbody>\n",
       "    <tr>\n",
       "      <th>0</th>\n",
       "      <td>L. Messi</td>\n",
       "      <td>31</td>\n",
       "      <td>Argentina</td>\n",
       "      <td>94</td>\n",
       "      <td>94</td>\n",
       "      <td>FC Barcelona</td>\n",
       "      <td>110500.0</td>\n",
       "      <td>565.0</td>\n",
       "      <td>Left</td>\n",
       "      <td>5.0</td>\n",
       "      <td>4.0</td>\n",
       "      <td>4.0</td>\n",
       "      <td>Medium/ Medium</td>\n",
       "      <td>RF</td>\n",
       "      <td>2004</td>\n",
       "      <td>2021</td>\n",
       "      <td>5.70</td>\n",
       "      <td>159.0</td>\n",
       "      <td>226500.0</td>\n",
       "    </tr>\n",
       "    <tr>\n",
       "      <th>1</th>\n",
       "      <td>Cristiano Ronaldo</td>\n",
       "      <td>33</td>\n",
       "      <td>Portugal</td>\n",
       "      <td>94</td>\n",
       "      <td>94</td>\n",
       "      <td>Juventus</td>\n",
       "      <td>77000.0</td>\n",
       "      <td>405.0</td>\n",
       "      <td>Right</td>\n",
       "      <td>5.0</td>\n",
       "      <td>4.0</td>\n",
       "      <td>5.0</td>\n",
       "      <td>High/ Low</td>\n",
       "      <td>ST</td>\n",
       "      <td>2018</td>\n",
       "      <td>2022</td>\n",
       "      <td>6.20</td>\n",
       "      <td>183.0</td>\n",
       "      <td>127100.0</td>\n",
       "    </tr>\n",
       "    <tr>\n",
       "      <th>2</th>\n",
       "      <td>Neymar Jr</td>\n",
       "      <td>26</td>\n",
       "      <td>Brazil</td>\n",
       "      <td>92</td>\n",
       "      <td>93</td>\n",
       "      <td>Paris Saint-Germain</td>\n",
       "      <td>118500.0</td>\n",
       "      <td>290.0</td>\n",
       "      <td>Right</td>\n",
       "      <td>5.0</td>\n",
       "      <td>5.0</td>\n",
       "      <td>5.0</td>\n",
       "      <td>High/ Medium</td>\n",
       "      <td>LW</td>\n",
       "      <td>2017</td>\n",
       "      <td>2022</td>\n",
       "      <td>5.90</td>\n",
       "      <td>150.0</td>\n",
       "      <td>228100.0</td>\n",
       "    </tr>\n",
       "    <tr>\n",
       "      <th>3</th>\n",
       "      <td>De Gea</td>\n",
       "      <td>27</td>\n",
       "      <td>Spain</td>\n",
       "      <td>91</td>\n",
       "      <td>93</td>\n",
       "      <td>Manchester United</td>\n",
       "      <td>72000.0</td>\n",
       "      <td>260.0</td>\n",
       "      <td>Right</td>\n",
       "      <td>4.0</td>\n",
       "      <td>3.0</td>\n",
       "      <td>1.0</td>\n",
       "      <td>Medium/ Medium</td>\n",
       "      <td>GK</td>\n",
       "      <td>2011</td>\n",
       "      <td>2020</td>\n",
       "      <td>6.40</td>\n",
       "      <td>168.0</td>\n",
       "      <td>138600.0</td>\n",
       "    </tr>\n",
       "    <tr>\n",
       "      <th>4</th>\n",
       "      <td>K. De Bruyne</td>\n",
       "      <td>27</td>\n",
       "      <td>Belgium</td>\n",
       "      <td>91</td>\n",
       "      <td>92</td>\n",
       "      <td>Manchester City</td>\n",
       "      <td>102000.0</td>\n",
       "      <td>355.0</td>\n",
       "      <td>Right</td>\n",
       "      <td>4.0</td>\n",
       "      <td>5.0</td>\n",
       "      <td>4.0</td>\n",
       "      <td>High/ High</td>\n",
       "      <td>RCM</td>\n",
       "      <td>2015</td>\n",
       "      <td>2023</td>\n",
       "      <td>5.11</td>\n",
       "      <td>154.0</td>\n",
       "      <td>196400.0</td>\n",
       "    </tr>\n",
       "  </tbody>\n",
       "</table>\n",
       "</div>"
      ],
      "text/plain": [
       "                Name  Age Nationality  Overall  Potential  \\\n",
       "0           L. Messi   31   Argentina       94         94   \n",
       "1  Cristiano Ronaldo   33    Portugal       94         94   \n",
       "2          Neymar Jr   26      Brazil       92         93   \n",
       "3             De Gea   27       Spain       91         93   \n",
       "4       K. De Bruyne   27     Belgium       91         92   \n",
       "\n",
       "                  Club  Value in thousands  Wage in thousands Preferred Foot  \\\n",
       "0         FC Barcelona            110500.0              565.0           Left   \n",
       "1             Juventus             77000.0              405.0          Right   \n",
       "2  Paris Saint-Germain            118500.0              290.0          Right   \n",
       "3    Manchester United             72000.0              260.0          Right   \n",
       "4      Manchester City            102000.0              355.0          Right   \n",
       "\n",
       "   International Reputation  Weak Foot  Skill Moves       Work Rate Position  \\\n",
       "0                       5.0        4.0          4.0  Medium/ Medium       RF   \n",
       "1                       5.0        4.0          5.0       High/ Low       ST   \n",
       "2                       5.0        5.0          5.0    High/ Medium       LW   \n",
       "3                       4.0        3.0          1.0  Medium/ Medium       GK   \n",
       "4                       4.0        5.0          4.0      High/ High      RCM   \n",
       "\n",
       "   Joined  Contract Valid Until  Height  Weight  Release Clause in thousands  \n",
       "0    2004                  2021    5.70   159.0                     226500.0  \n",
       "1    2018                  2022    6.20   183.0                     127100.0  \n",
       "2    2017                  2022    5.90   150.0                     228100.0  \n",
       "3    2011                  2020    6.40   168.0                     138600.0  \n",
       "4    2015                  2023    5.11   154.0                     196400.0  "
      ]
     },
     "execution_count": 275,
     "metadata": {},
     "output_type": "execute_result"
    }
   ],
   "source": [
    "fifa.head()"
   ]
  },
  {
   "cell_type": "markdown",
   "metadata": {},
   "source": [
    "### Distribution"
   ]
  },
  {
   "cell_type": "markdown",
   "metadata": {},
   "source": [
    "Inorder to understand the distribution of the players , analysis is done on features such as Overall, Potential,Values, Release Clause,Joined,Contract Validity, Position."
   ]
  },
  {
   "cell_type": "markdown",
   "metadata": {},
   "source": [
    "##### Overall score and potential score"
   ]
  },
  {
   "cell_type": "code",
   "execution_count": 276,
   "metadata": {},
   "outputs": [
    {
     "data": {
      "text/plain": [
       "Text(0, 0.5, 'count')"
      ]
     },
     "execution_count": 276,
     "metadata": {},
     "output_type": "execute_result"
    },
    {
     "data": {
      "image/png": "[encoded data removed]",
      "text/plain": [
       "<Figure size 1008x432 with 2 Axes>"
      ]
     },
     "metadata": {
      "needs_background": "light"
     },
     "output_type": "display_data"
    }
   ],
   "source": [
    "f,ax = plt.subplots(1,2,figsize=(14,6))\n",
    "plt.subplots_adjust(wspace = 0.5)  \n",
    "\n",
    "fifa['Overall'].plot(kind = 'hist',ax = ax[0])\n",
    "ax[0].set_xlabel('overall score')\n",
    "ax[0].set_ylabel('count')\n",
    "\n",
    "fifa['Potential'].plot(kind = 'hist',ax = ax[1])\n",
    "ax[1].set_xlabel('potential score')\n",
    "ax[1].set_ylabel('count')"
   ]
  },
  {
   "cell_type": "markdown",
   "metadata": {},
   "source": [
    "* Most of the players score lies in the range of '60 - 75'. \n",
    "* Distribution of both overall score and potential score looks similar. "
   ]
  },
  {
   "cell_type": "markdown",
   "metadata": {},
   "source": [
    "##### values and release clause"
   ]
  },
  {
   "cell_type": "code",
   "execution_count": 277,
   "metadata": {},
   "outputs": [
    {
     "data": {
      "text/plain": [
       "Text(0, 0.5, 'count')"
      ]
     },
     "execution_count": 277,
     "metadata": {},
     "output_type": "execute_result"
    },
    {
     "data": {
      "image/png": "[encoded data removed]",
      "text/plain": [
       "<Figure size 1080x360 with 2 Axes>"
      ]
     },
     "metadata": {
      "needs_background": "light"
     },
     "output_type": "display_data"
    }
   ],
   "source": [
    "f,ax = plt.subplots(1,2,figsize=(15,5))\n",
    "plt.subplots_adjust(wspace = 0.3)  \n",
    "\n",
    "fifa['Value in thousands'].plot(kind = 'hist',bins = [0,5000,10000,15000,20000,25000,30000,70000],ax = ax[0])\n",
    "ax[0].set_xlabel('Value in thousands')\n",
    "ax[0].set_ylabel('count')\n",
    "\n",
    "fifa['Release Clause in thousands'].plot(kind = 'hist',bins = [0,5000,10000,15000,20000,25000,30000,70000],ax = ax[1])\n",
    "ax[1].set_xlabel('Release Clause in tshousands')\n",
    "ax[1].set_ylabel('count')\n"
   ]
  },
  {
   "cell_type": "markdown",
   "metadata": {},
   "source": [
    "__Value__ :  Around '15000+'  players lies in the range '0-5000' which is very huge.\n",
    "Number of players whose value is in the range '5000-1000' is around '1000+' which is very less compared to previous range.\n",
    "\n",
    "__Release Clause__: Same follows here too. Around 14000+ players lies in the range '0-5000'. "
   ]
  },
  {
   "cell_type": "markdown",
   "metadata": {},
   "source": [
    "#### Joined and contract validity"
   ]
  },
  {
   "cell_type": "code",
   "execution_count": 278,
   "metadata": {
    "scrolled": true
   },
   "outputs": [
    {
     "data": {
      "text/plain": [
       "<matplotlib.axes._subplots.AxesSubplot at 0x225dd380ec8>"
      ]
     },
     "execution_count": 278,
     "metadata": {},
     "output_type": "execute_result"
    },
    {
     "data": {
      "image/png": "[encoded data removed]",
      "text/plain": [
       "<Figure size 1080x360 with 2 Axes>"
      ]
     },
     "metadata": {
      "needs_background": "light"
     },
     "output_type": "display_data"
    }
   ],
   "source": [
    "f,ax = plt.subplots(1,2,figsize=(15,5))\n",
    "plt.subplots_adjust(wspace = 0.3) \n",
    "\n",
    "# since 0 represents null value , eliminating 0 b.\n",
    "fifa.loc[fifa['Joined'] != 0 ,'Joined'].value_counts().plot(kind = 'bar',ax = ax[0])\n",
    "fifa.loc[fifa['Contract Valid Until'] != 0 ,'Contract Valid Until'].value_counts().plot(kind = 'bar',ax = ax[1])\n"
   ]
  },
  {
   "cell_type": "markdown",
   "metadata": {},
   "source": [
    "From the above graph,\n",
    "\n",
    "* More players are joined during the year 2018 with the count of 6000+. Then comes 2017 with 4000+.\n",
    "* since we are in 2020, we can cosider 2018 and 2019 in which the contract has ended for players. 2020 can also be taken."
   ]
  },
  {
   "cell_type": "markdown",
   "metadata": {},
   "source": [
    "##### Position"
   ]
  },
  {
   "cell_type": "code",
   "execution_count": 279,
   "metadata": {},
   "outputs": [
    {
     "data": {
      "text/plain": [
       "<matplotlib.axes._subplots.AxesSubplot at 0x225dd2fc208>"
      ]
     },
     "execution_count": 279,
     "metadata": {},
     "output_type": "execute_result"
    },
    {
     "data": {
      "image/png": "[encoded data removed]",
      "text/plain": [
       "<Figure size 720x576 with 1 Axes>"
      ]
     },
     "metadata": {
      "needs_background": "light"
     },
     "output_type": "display_data"
    }
   ],
   "source": [
    "plt.figure(figsize = (10,8))\n",
    "fifa['Position'].value_counts().plot(kind = 'bar')"
   ]
  },
  {
   "cell_type": "markdown",
   "metadata": {},
   "source": [
    "* 'ST','GK','CB' positions are played by more than 1500+ players each.\n",
    "* Similar to this there are some positions which is played be least players too such as 'LAM','RF','LF'.\n",
    "***"
   ]
  },
  {
   "cell_type": "markdown",
   "metadata": {},
   "source": [
    "### Selection of Top 20 players"
   ]
  },
  {
   "cell_type": "markdown",
   "metadata": {},
   "source": [
    "After understanding the distribution of players with respect to few featues , let us get into the process of \n",
    "selecting top 20 players for the club."
   ]
  },
  {
   "cell_type": "markdown",
   "metadata": {},
   "source": [
    "#### understanding overall rating"
   ]
  },
  {
   "cell_type": "code",
   "execution_count": 280,
   "metadata": {},
   "outputs": [
    {
     "data": {
      "text/plain": [
       "<seaborn.axisgrid.PairGrid at 0x225dd58b2c8>"
      ]
     },
     "execution_count": 280,
     "metadata": {},
     "output_type": "execute_result"
    },
    {
     "data": {
      "text/plain": [
       "<Figure size 720x720 with 0 Axes>"
      ]
     },
     "metadata": {},
     "output_type": "display_data"
    },
    {
     "data": {
      "image/png": "[encoded data removed]",
      "text/plain": [
       "<Figure size 1260x180 with 7 Axes>"
      ]
     },
     "metadata": {
      "needs_background": "light"
     },
     "output_type": "display_data"
    }
   ],
   "source": [
    "plt.figure(figsize = (10,10))\n",
    "sns.pairplot(y_vars = 'Overall',x_vars = ['Value in thousands','Wage in thousands','International Reputation','Height','Weight','Age','Release Clause in thousands'],data = fifa)"
   ]
  },
  {
   "cell_type": "markdown",
   "metadata": {},
   "source": [
    "From the pair plot , \n",
    "\n",
    "* Value of the player increase with repect to the overall score. Same is applicable to wage and Release Clause too.\n",
    "* There are only few players with good overall rating and reputation. Also players with good overall has very less international\n",
    "  reputation.\n",
    "* Height ,Weight, Age seems to be normally distributed and has no effect in overall score.\n"
   ]
  },
  {
   "cell_type": "markdown",
   "metadata": {},
   "source": [
    "#### Top 20 players"
   ]
  },
  {
   "cell_type": "markdown",
   "metadata": {},
   "source": [
    "Now, top 20 players are selected based on the overall rating  whose contract period ends in 2020."
   ]
  },
  {
   "cell_type": "markdown",
   "metadata": {},
   "source": [
    "##### overall and contract validity"
   ]
  },
  {
   "cell_type": "code",
   "execution_count": 281,
   "metadata": {
    "scrolled": true
   },
   "outputs": [
    {
     "data": {
      "text/html": [
       "<div>\n",
       "<style scoped>\n",
       "    .dataframe tbody tr th:only-of-type {\n",
       "        vertical-align: middle;\n",
       "    }\n",
       "\n",
       "    .dataframe tbody tr th {\n",
       "        vertical-align: top;\n",
       "    }\n",
       "\n",
       "    .dataframe thead th {\n",
       "        text-align: right;\n",
       "    }\n",
       "</style>\n",
       "<table border=\"1\" class=\"dataframe\">\n",
       "  <thead>\n",
       "    <tr style=\"text-align: right;\">\n",
       "      <th></th>\n",
       "      <th>Name</th>\n",
       "      <th>Age</th>\n",
       "      <th>Nationality</th>\n",
       "      <th>Overall</th>\n",
       "      <th>Potential</th>\n",
       "      <th>Club</th>\n",
       "      <th>Value in thousands</th>\n",
       "      <th>Wage in thousands</th>\n",
       "      <th>Preferred Foot</th>\n",
       "      <th>International Reputation</th>\n",
       "      <th>Weak Foot</th>\n",
       "      <th>Skill Moves</th>\n",
       "      <th>Work Rate</th>\n",
       "      <th>Position</th>\n",
       "      <th>Joined</th>\n",
       "      <th>Contract Valid Until</th>\n",
       "      <th>Height</th>\n",
       "      <th>Weight</th>\n",
       "      <th>Release Clause in thousands</th>\n",
       "    </tr>\n",
       "  </thead>\n",
       "  <tbody>\n",
       "    <tr>\n",
       "      <th>3</th>\n",
       "      <td>De Gea</td>\n",
       "      <td>27</td>\n",
       "      <td>Spain</td>\n",
       "      <td>91</td>\n",
       "      <td>93</td>\n",
       "      <td>Manchester United</td>\n",
       "      <td>72000.0</td>\n",
       "      <td>260.0</td>\n",
       "      <td>Right</td>\n",
       "      <td>4.0</td>\n",
       "      <td>3.0</td>\n",
       "      <td>1.0</td>\n",
       "      <td>Medium/ Medium</td>\n",
       "      <td>GK</td>\n",
       "      <td>2011</td>\n",
       "      <td>2020</td>\n",
       "      <td>6.40</td>\n",
       "      <td>168.0</td>\n",
       "      <td>138600.0</td>\n",
       "    </tr>\n",
       "    <tr>\n",
       "      <th>5</th>\n",
       "      <td>E. Hazard</td>\n",
       "      <td>27</td>\n",
       "      <td>Belgium</td>\n",
       "      <td>91</td>\n",
       "      <td>91</td>\n",
       "      <td>Chelsea</td>\n",
       "      <td>93000.0</td>\n",
       "      <td>340.0</td>\n",
       "      <td>Right</td>\n",
       "      <td>4.0</td>\n",
       "      <td>4.0</td>\n",
       "      <td>4.0</td>\n",
       "      <td>High/ Medium</td>\n",
       "      <td>LF</td>\n",
       "      <td>2012</td>\n",
       "      <td>2020</td>\n",
       "      <td>5.80</td>\n",
       "      <td>163.0</td>\n",
       "      <td>172100.0</td>\n",
       "    </tr>\n",
       "    <tr>\n",
       "      <th>6</th>\n",
       "      <td>L. Modrić</td>\n",
       "      <td>32</td>\n",
       "      <td>Croatia</td>\n",
       "      <td>91</td>\n",
       "      <td>91</td>\n",
       "      <td>Real Madrid</td>\n",
       "      <td>67000.0</td>\n",
       "      <td>420.0</td>\n",
       "      <td>Right</td>\n",
       "      <td>4.0</td>\n",
       "      <td>4.0</td>\n",
       "      <td>4.0</td>\n",
       "      <td>High/ High</td>\n",
       "      <td>RCM</td>\n",
       "      <td>2012</td>\n",
       "      <td>2020</td>\n",
       "      <td>5.80</td>\n",
       "      <td>146.0</td>\n",
       "      <td>137400.0</td>\n",
       "    </tr>\n",
       "    <tr>\n",
       "      <th>8</th>\n",
       "      <td>Sergio Ramos</td>\n",
       "      <td>32</td>\n",
       "      <td>Spain</td>\n",
       "      <td>91</td>\n",
       "      <td>91</td>\n",
       "      <td>Real Madrid</td>\n",
       "      <td>51000.0</td>\n",
       "      <td>380.0</td>\n",
       "      <td>Right</td>\n",
       "      <td>4.0</td>\n",
       "      <td>3.0</td>\n",
       "      <td>3.0</td>\n",
       "      <td>High/ Medium</td>\n",
       "      <td>RCB</td>\n",
       "      <td>2005</td>\n",
       "      <td>2020</td>\n",
       "      <td>6.00</td>\n",
       "      <td>181.0</td>\n",
       "      <td>104600.0</td>\n",
       "    </tr>\n",
       "    <tr>\n",
       "      <th>13</th>\n",
       "      <td>David Silva</td>\n",
       "      <td>32</td>\n",
       "      <td>Spain</td>\n",
       "      <td>90</td>\n",
       "      <td>90</td>\n",
       "      <td>Manchester City</td>\n",
       "      <td>60000.0</td>\n",
       "      <td>285.0</td>\n",
       "      <td>Left</td>\n",
       "      <td>4.0</td>\n",
       "      <td>2.0</td>\n",
       "      <td>4.0</td>\n",
       "      <td>High/ Medium</td>\n",
       "      <td>LCM</td>\n",
       "      <td>2010</td>\n",
       "      <td>2020</td>\n",
       "      <td>5.80</td>\n",
       "      <td>148.0</td>\n",
       "      <td>111000.0</td>\n",
       "    </tr>\n",
       "    <tr>\n",
       "      <th>24</th>\n",
       "      <td>G. Chiellini</td>\n",
       "      <td>33</td>\n",
       "      <td>Italy</td>\n",
       "      <td>89</td>\n",
       "      <td>89</td>\n",
       "      <td>Juventus</td>\n",
       "      <td>27000.0</td>\n",
       "      <td>215.0</td>\n",
       "      <td>Left</td>\n",
       "      <td>4.0</td>\n",
       "      <td>3.0</td>\n",
       "      <td>2.0</td>\n",
       "      <td>Medium/ High</td>\n",
       "      <td>LCB</td>\n",
       "      <td>2005</td>\n",
       "      <td>2020</td>\n",
       "      <td>6.20</td>\n",
       "      <td>187.0</td>\n",
       "      <td>44600.0</td>\n",
       "    </tr>\n",
       "    <tr>\n",
       "      <th>21</th>\n",
       "      <td>E. Cavani</td>\n",
       "      <td>31</td>\n",
       "      <td>Uruguay</td>\n",
       "      <td>89</td>\n",
       "      <td>89</td>\n",
       "      <td>Paris Saint-Germain</td>\n",
       "      <td>60000.0</td>\n",
       "      <td>200.0</td>\n",
       "      <td>Right</td>\n",
       "      <td>4.0</td>\n",
       "      <td>4.0</td>\n",
       "      <td>3.0</td>\n",
       "      <td>High/ High</td>\n",
       "      <td>LS</td>\n",
       "      <td>2013</td>\n",
       "      <td>2020</td>\n",
       "      <td>6.10</td>\n",
       "      <td>170.0</td>\n",
       "      <td>111000.0</td>\n",
       "    </tr>\n",
       "    <tr>\n",
       "      <th>39</th>\n",
       "      <td>Thiago Silva</td>\n",
       "      <td>33</td>\n",
       "      <td>Brazil</td>\n",
       "      <td>88</td>\n",
       "      <td>88</td>\n",
       "      <td>Paris Saint-Germain</td>\n",
       "      <td>24000.0</td>\n",
       "      <td>165.0</td>\n",
       "      <td>Right</td>\n",
       "      <td>4.0</td>\n",
       "      <td>3.0</td>\n",
       "      <td>2.0</td>\n",
       "      <td>Medium/ High</td>\n",
       "      <td>RCB</td>\n",
       "      <td>2012</td>\n",
       "      <td>2020</td>\n",
       "      <td>6.00</td>\n",
       "      <td>181.0</td>\n",
       "      <td>44400.0</td>\n",
       "    </tr>\n",
       "    <tr>\n",
       "      <th>31</th>\n",
       "      <td>C. Eriksen</td>\n",
       "      <td>26</td>\n",
       "      <td>Denmark</td>\n",
       "      <td>88</td>\n",
       "      <td>91</td>\n",
       "      <td>Tottenham Hotspur</td>\n",
       "      <td>73500.0</td>\n",
       "      <td>205.0</td>\n",
       "      <td>Right</td>\n",
       "      <td>3.0</td>\n",
       "      <td>5.0</td>\n",
       "      <td>4.0</td>\n",
       "      <td>High/ Medium</td>\n",
       "      <td>CAM</td>\n",
       "      <td>2013</td>\n",
       "      <td>2020</td>\n",
       "      <td>5.11</td>\n",
       "      <td>168.0</td>\n",
       "      <td>141500.0</td>\n",
       "    </tr>\n",
       "    <tr>\n",
       "      <th>52</th>\n",
       "      <td>M. Hamšík</td>\n",
       "      <td>30</td>\n",
       "      <td>Slovakia</td>\n",
       "      <td>87</td>\n",
       "      <td>87</td>\n",
       "      <td>Napoli</td>\n",
       "      <td>46500.0</td>\n",
       "      <td>125.0</td>\n",
       "      <td>Right</td>\n",
       "      <td>3.0</td>\n",
       "      <td>5.0</td>\n",
       "      <td>3.0</td>\n",
       "      <td>High/ Medium</td>\n",
       "      <td>LCM</td>\n",
       "      <td>2007</td>\n",
       "      <td>2020</td>\n",
       "      <td>6.00</td>\n",
       "      <td>174.0</td>\n",
       "      <td>79100.0</td>\n",
       "    </tr>\n",
       "    <tr>\n",
       "      <th>50</th>\n",
       "      <td>D. Mertens</td>\n",
       "      <td>31</td>\n",
       "      <td>Belgium</td>\n",
       "      <td>87</td>\n",
       "      <td>87</td>\n",
       "      <td>Napoli</td>\n",
       "      <td>45000.0</td>\n",
       "      <td>135.0</td>\n",
       "      <td>Right</td>\n",
       "      <td>3.0</td>\n",
       "      <td>4.0</td>\n",
       "      <td>4.0</td>\n",
       "      <td>High/ Low</td>\n",
       "      <td>RF</td>\n",
       "      <td>2013</td>\n",
       "      <td>2020</td>\n",
       "      <td>5.70</td>\n",
       "      <td>134.0</td>\n",
       "      <td>76500.0</td>\n",
       "    </tr>\n",
       "    <tr>\n",
       "      <th>49</th>\n",
       "      <td>Jordi Alba</td>\n",
       "      <td>29</td>\n",
       "      <td>Spain</td>\n",
       "      <td>87</td>\n",
       "      <td>87</td>\n",
       "      <td>FC Barcelona</td>\n",
       "      <td>38000.0</td>\n",
       "      <td>250.0</td>\n",
       "      <td>Left</td>\n",
       "      <td>3.0</td>\n",
       "      <td>3.0</td>\n",
       "      <td>3.0</td>\n",
       "      <td>High/ Medium</td>\n",
       "      <td>LB</td>\n",
       "      <td>2012</td>\n",
       "      <td>2020</td>\n",
       "      <td>5.70</td>\n",
       "      <td>150.0</td>\n",
       "      <td>77900.0</td>\n",
       "    </tr>\n",
       "    <tr>\n",
       "      <th>46</th>\n",
       "      <td>K. Navas</td>\n",
       "      <td>31</td>\n",
       "      <td>Costa Rica</td>\n",
       "      <td>87</td>\n",
       "      <td>87</td>\n",
       "      <td>Real Madrid</td>\n",
       "      <td>30500.0</td>\n",
       "      <td>195.0</td>\n",
       "      <td>Right</td>\n",
       "      <td>3.0</td>\n",
       "      <td>3.0</td>\n",
       "      <td>1.0</td>\n",
       "      <td>Medium/ Medium</td>\n",
       "      <td>GK</td>\n",
       "      <td>2014</td>\n",
       "      <td>2020</td>\n",
       "      <td>6.10</td>\n",
       "      <td>176.0</td>\n",
       "      <td>62500.0</td>\n",
       "    </tr>\n",
       "    <tr>\n",
       "      <th>75</th>\n",
       "      <td>Fernandinho</td>\n",
       "      <td>33</td>\n",
       "      <td>Brazil</td>\n",
       "      <td>86</td>\n",
       "      <td>86</td>\n",
       "      <td>Manchester City</td>\n",
       "      <td>18000.0</td>\n",
       "      <td>185.0</td>\n",
       "      <td>Right</td>\n",
       "      <td>3.0</td>\n",
       "      <td>4.0</td>\n",
       "      <td>3.0</td>\n",
       "      <td>Medium/ High</td>\n",
       "      <td>CDM</td>\n",
       "      <td>2013</td>\n",
       "      <td>2020</td>\n",
       "      <td>5.10</td>\n",
       "      <td>148.0</td>\n",
       "      <td>33300.0</td>\n",
       "    </tr>\n",
       "    <tr>\n",
       "      <th>73</th>\n",
       "      <td>M. Benatia</td>\n",
       "      <td>31</td>\n",
       "      <td>Morocco</td>\n",
       "      <td>86</td>\n",
       "      <td>86</td>\n",
       "      <td>Juventus</td>\n",
       "      <td>30000.0</td>\n",
       "      <td>160.0</td>\n",
       "      <td>Right</td>\n",
       "      <td>3.0</td>\n",
       "      <td>3.0</td>\n",
       "      <td>2.0</td>\n",
       "      <td>Medium/ High</td>\n",
       "      <td>CB</td>\n",
       "      <td>2014</td>\n",
       "      <td>2020</td>\n",
       "      <td>6.20</td>\n",
       "      <td>207.0</td>\n",
       "      <td>49500.0</td>\n",
       "    </tr>\n",
       "    <tr>\n",
       "      <th>71</th>\n",
       "      <td>T. Alderweireld</td>\n",
       "      <td>29</td>\n",
       "      <td>Belgium</td>\n",
       "      <td>86</td>\n",
       "      <td>87</td>\n",
       "      <td>Tottenham Hotspur</td>\n",
       "      <td>39000.0</td>\n",
       "      <td>150.0</td>\n",
       "      <td>Right</td>\n",
       "      <td>3.0</td>\n",
       "      <td>3.0</td>\n",
       "      <td>2.0</td>\n",
       "      <td>Medium/ Medium</td>\n",
       "      <td>RCB</td>\n",
       "      <td>2015</td>\n",
       "      <td>2020</td>\n",
       "      <td>6.10</td>\n",
       "      <td>179.0</td>\n",
       "      <td>75100.0</td>\n",
       "    </tr>\n",
       "    <tr>\n",
       "      <th>64</th>\n",
       "      <td>Alex Sandro</td>\n",
       "      <td>27</td>\n",
       "      <td>Brazil</td>\n",
       "      <td>86</td>\n",
       "      <td>86</td>\n",
       "      <td>Juventus</td>\n",
       "      <td>36500.0</td>\n",
       "      <td>160.0</td>\n",
       "      <td>Left</td>\n",
       "      <td>3.0</td>\n",
       "      <td>3.0</td>\n",
       "      <td>3.0</td>\n",
       "      <td>High/ High</td>\n",
       "      <td>LB</td>\n",
       "      <td>2015</td>\n",
       "      <td>2020</td>\n",
       "      <td>5.11</td>\n",
       "      <td>176.0</td>\n",
       "      <td>60200.0</td>\n",
       "    </tr>\n",
       "    <tr>\n",
       "      <th>98</th>\n",
       "      <td>E. Džeko</td>\n",
       "      <td>32</td>\n",
       "      <td>Bosnia Herzegovina</td>\n",
       "      <td>85</td>\n",
       "      <td>85</td>\n",
       "      <td>Roma</td>\n",
       "      <td>30500.0</td>\n",
       "      <td>115.0</td>\n",
       "      <td>Right</td>\n",
       "      <td>3.0</td>\n",
       "      <td>5.0</td>\n",
       "      <td>2.0</td>\n",
       "      <td>Medium/ Medium</td>\n",
       "      <td>ST</td>\n",
       "      <td>2015</td>\n",
       "      <td>2020</td>\n",
       "      <td>6.40</td>\n",
       "      <td>185.0</td>\n",
       "      <td>51900.0</td>\n",
       "    </tr>\n",
       "    <tr>\n",
       "      <th>102</th>\n",
       "      <td>Naldo</td>\n",
       "      <td>35</td>\n",
       "      <td>Brazil</td>\n",
       "      <td>85</td>\n",
       "      <td>85</td>\n",
       "      <td>FC Schalke 04</td>\n",
       "      <td>9000.0</td>\n",
       "      <td>38.0</td>\n",
       "      <td>Right</td>\n",
       "      <td>3.0</td>\n",
       "      <td>4.0</td>\n",
       "      <td>2.0</td>\n",
       "      <td>Medium/ Medium</td>\n",
       "      <td>CB</td>\n",
       "      <td>2016</td>\n",
       "      <td>2020</td>\n",
       "      <td>6.60</td>\n",
       "      <td>201.0</td>\n",
       "      <td>15300.0</td>\n",
       "    </tr>\n",
       "    <tr>\n",
       "      <th>103</th>\n",
       "      <td>B. Matuidi</td>\n",
       "      <td>31</td>\n",
       "      <td>France</td>\n",
       "      <td>85</td>\n",
       "      <td>85</td>\n",
       "      <td>Juventus</td>\n",
       "      <td>26000.0</td>\n",
       "      <td>145.0</td>\n",
       "      <td>Left</td>\n",
       "      <td>3.0</td>\n",
       "      <td>2.0</td>\n",
       "      <td>2.0</td>\n",
       "      <td>High/ High</td>\n",
       "      <td>LM</td>\n",
       "      <td>2017</td>\n",
       "      <td>2020</td>\n",
       "      <td>5.11</td>\n",
       "      <td>165.0</td>\n",
       "      <td>42900.0</td>\n",
       "    </tr>\n",
       "  </tbody>\n",
       "</table>\n",
       "</div>"
      ],
      "text/plain": [
       "                Name  Age         Nationality  Overall  Potential  \\\n",
       "3             De Gea   27               Spain       91         93   \n",
       "5          E. Hazard   27             Belgium       91         91   \n",
       "6          L. Modrić   32             Croatia       91         91   \n",
       "8       Sergio Ramos   32               Spain       91         91   \n",
       "13       David Silva   32               Spain       90         90   \n",
       "24      G. Chiellini   33               Italy       89         89   \n",
       "21         E. Cavani   31             Uruguay       89         89   \n",
       "39      Thiago Silva   33              Brazil       88         88   \n",
       "31        C. Eriksen   26             Denmark       88         91   \n",
       "52         M. Hamšík   30            Slovakia       87         87   \n",
       "50        D. Mertens   31             Belgium       87         87   \n",
       "49        Jordi Alba   29               Spain       87         87   \n",
       "46          K. Navas   31          Costa Rica       87         87   \n",
       "75       Fernandinho   33              Brazil       86         86   \n",
       "73        M. Benatia   31             Morocco       86         86   \n",
       "71   T. Alderweireld   29             Belgium       86         87   \n",
       "64       Alex Sandro   27              Brazil       86         86   \n",
       "98          E. Džeko   32  Bosnia Herzegovina       85         85   \n",
       "102            Naldo   35              Brazil       85         85   \n",
       "103       B. Matuidi   31              France       85         85   \n",
       "\n",
       "                    Club  Value in thousands  Wage in thousands  \\\n",
       "3      Manchester United             72000.0              260.0   \n",
       "5                Chelsea             93000.0              340.0   \n",
       "6            Real Madrid             67000.0              420.0   \n",
       "8            Real Madrid             51000.0              380.0   \n",
       "13       Manchester City             60000.0              285.0   \n",
       "24              Juventus             27000.0              215.0   \n",
       "21   Paris Saint-Germain             60000.0              200.0   \n",
       "39   Paris Saint-Germain             24000.0              165.0   \n",
       "31     Tottenham Hotspur             73500.0              205.0   \n",
       "52                Napoli             46500.0              125.0   \n",
       "50                Napoli             45000.0              135.0   \n",
       "49          FC Barcelona             38000.0              250.0   \n",
       "46           Real Madrid             30500.0              195.0   \n",
       "75       Manchester City             18000.0              185.0   \n",
       "73              Juventus             30000.0              160.0   \n",
       "71     Tottenham Hotspur             39000.0              150.0   \n",
       "64              Juventus             36500.0              160.0   \n",
       "98                  Roma             30500.0              115.0   \n",
       "102        FC Schalke 04              9000.0               38.0   \n",
       "103             Juventus             26000.0              145.0   \n",
       "\n",
       "    Preferred Foot  International Reputation  Weak Foot  Skill Moves  \\\n",
       "3            Right                       4.0        3.0          1.0   \n",
       "5            Right                       4.0        4.0          4.0   \n",
       "6            Right                       4.0        4.0          4.0   \n",
       "8            Right                       4.0        3.0          3.0   \n",
       "13            Left                       4.0        2.0          4.0   \n",
       "24            Left                       4.0        3.0          2.0   \n",
       "21           Right                       4.0        4.0          3.0   \n",
       "39           Right                       4.0        3.0          2.0   \n",
       "31           Right                       3.0        5.0          4.0   \n",
       "52           Right                       3.0        5.0          3.0   \n",
       "50           Right                       3.0        4.0          4.0   \n",
       "49            Left                       3.0        3.0          3.0   \n",
       "46           Right                       3.0        3.0          1.0   \n",
       "75           Right                       3.0        4.0          3.0   \n",
       "73           Right                       3.0        3.0          2.0   \n",
       "71           Right                       3.0        3.0          2.0   \n",
       "64            Left                       3.0        3.0          3.0   \n",
       "98           Right                       3.0        5.0          2.0   \n",
       "102          Right                       3.0        4.0          2.0   \n",
       "103           Left                       3.0        2.0          2.0   \n",
       "\n",
       "          Work Rate Position  Joined  Contract Valid Until  Height  Weight  \\\n",
       "3    Medium/ Medium       GK    2011                  2020    6.40   168.0   \n",
       "5      High/ Medium       LF    2012                  2020    5.80   163.0   \n",
       "6        High/ High      RCM    2012                  2020    5.80   146.0   \n",
       "8      High/ Medium      RCB    2005                  2020    6.00   181.0   \n",
       "13     High/ Medium      LCM    2010                  2020    5.80   148.0   \n",
       "24     Medium/ High      LCB    2005                  2020    6.20   187.0   \n",
       "21       High/ High       LS    2013                  2020    6.10   170.0   \n",
       "39     Medium/ High      RCB    2012                  2020    6.00   181.0   \n",
       "31     High/ Medium      CAM    2013                  2020    5.11   168.0   \n",
       "52     High/ Medium      LCM    2007                  2020    6.00   174.0   \n",
       "50        High/ Low       RF    2013                  2020    5.70   134.0   \n",
       "49     High/ Medium       LB    2012                  2020    5.70   150.0   \n",
       "46   Medium/ Medium       GK    2014                  2020    6.10   176.0   \n",
       "75     Medium/ High      CDM    2013                  2020    5.10   148.0   \n",
       "73     Medium/ High       CB    2014                  2020    6.20   207.0   \n",
       "71   Medium/ Medium      RCB    2015                  2020    6.10   179.0   \n",
       "64       High/ High       LB    2015                  2020    5.11   176.0   \n",
       "98   Medium/ Medium       ST    2015                  2020    6.40   185.0   \n",
       "102  Medium/ Medium       CB    2016                  2020    6.60   201.0   \n",
       "103      High/ High       LM    2017                  2020    5.11   165.0   \n",
       "\n",
       "     Release Clause in thousands  \n",
       "3                       138600.0  \n",
       "5                       172100.0  \n",
       "6                       137400.0  \n",
       "8                       104600.0  \n",
       "13                      111000.0  \n",
       "24                       44600.0  \n",
       "21                      111000.0  \n",
       "39                       44400.0  \n",
       "31                      141500.0  \n",
       "52                       79100.0  \n",
       "50                       76500.0  \n",
       "49                       77900.0  \n",
       "46                       62500.0  \n",
       "75                       33300.0  \n",
       "73                       49500.0  \n",
       "71                       75100.0  \n",
       "64                       60200.0  \n",
       "98                       51900.0  \n",
       "102                      15300.0  \n",
       "103                      42900.0  "
      ]
     },
     "execution_count": 281,
     "metadata": {},
     "output_type": "execute_result"
    }
   ],
   "source": [
    "top_20_overall = fifa.sort_values('Overall',ascending = False).loc[fifa['Contract Valid Until'] == 2020,: ].head(20)\n",
    "top_20_overall"
   ]
  },
  {
   "cell_type": "code",
   "execution_count": 282,
   "metadata": {},
   "outputs": [
    {
     "data": {
      "text/plain": [
       "<matplotlib.axes._subplots.AxesSubplot at 0x225ddeb2488>"
      ]
     },
     "execution_count": 282,
     "metadata": {},
     "output_type": "execute_result"
    },
    {
     "data": {
      "image/png": "[encoded data removed]",
      "text/plain": [
       "<Figure size 864x432 with 2 Axes>"
      ]
     },
     "metadata": {
      "needs_background": "light"
     },
     "output_type": "display_data"
    }
   ],
   "source": [
    "f,ax = plt.subplots(1,2,figsize=(12,6))\n",
    "top_20_overall['Work Rate'].value_counts().plot(kind = 'bar',ax = ax[0])\n",
    "top_20_overall['Preferred Foot'].value_counts().plot(kind = 'bar',ax = ax[1])\n"
   ]
  },
  {
   "cell_type": "markdown",
   "metadata": {},
   "source": [
    "* Work rate says about attack and defence score of players. Around 5 all rounders are present in top 20.\n",
    "* Also few left-footed players are present which gives an additional strength."
   ]
  },
  {
   "cell_type": "markdown",
   "metadata": {},
   "source": [
    "##### Average fare for each postion"
   ]
  },
  {
   "cell_type": "markdown",
   "metadata": {},
   "source": [
    "As a team, Position of a player plays vital role. Let us generate a table with __top 5 players__ respect to each position."
   ]
  },
  {
   "cell_type": "code",
   "execution_count": 283,
   "metadata": {},
   "outputs": [],
   "source": [
    "fifa_1 = fifa.copy()"
   ]
  },
  {
   "cell_type": "code",
   "execution_count": 284,
   "metadata": {},
   "outputs": [],
   "source": [
    "fifa_1 = fifa_1.sort_values(['Position','Overall'],ascending = [True,False]).groupby('Position').head(5) "
   ]
  },
  {
   "cell_type": "code",
   "execution_count": 285,
   "metadata": {},
   "outputs": [],
   "source": [
    "fifa_1 = fifa_1.loc[fifa_1['Position']!= 'NA',:] "
   ]
  },
  {
   "cell_type": "code",
   "execution_count": 286,
   "metadata": {},
   "outputs": [
    {
     "data": {
      "text/plain": [
       "<matplotlib.axes._subplots.AxesSubplot at 0x225ddf3e088>"
      ]
     },
     "execution_count": 286,
     "metadata": {},
     "output_type": "execute_result"
    },
    {
     "data": {
      "image/png": "[encoded data removed]",
      "text/plain": [
       "<Figure size 864x576 with 1 Axes>"
      ]
     },
     "metadata": {
      "needs_background": "light"
     },
     "output_type": "display_data"
    }
   ],
   "source": [
    "plt.figure(figsize = (12,8))\n",
    "sns.barplot('Position','Wage in thousands',data = fifa_1)\n"
   ]
  },
  {
   "cell_type": "markdown",
   "metadata": {},
   "source": [
    "* The average wage based on each position of the players is shown above. \n",
    "* This will be helpful for seeking average fare of top 20 players  with respect to their positions.\n",
    "* It seems players who play at position 'ST','LW' have more average fare. Similarly, 'LWB','RWB','RAM' seeks very low average wage. "
   ]
  },
  {
   "cell_type": "markdown",
   "metadata": {},
   "source": [
    "##### Release clause  vs Value of top 20 players"
   ]
  },
  {
   "cell_type": "code",
   "execution_count": 311,
   "metadata": {},
   "outputs": [
    {
     "data": {
      "text/plain": [
       "<matplotlib.axes._subplots.AxesSubplot at 0x225e0bdf9c8>"
      ]
     },
     "execution_count": 311,
     "metadata": {},
     "output_type": "execute_result"
    },
    {
     "data": {
      "image/png": "[encoded data removed]",
      "text/plain": [
       "<Figure size 504x360 with 1 Axes>"
      ]
     },
     "metadata": {
      "needs_background": "light"
     },
     "output_type": "display_data"
    }
   ],
   "source": [
    "plt.figure(figsize = (7,5))\n",
    "sns.lineplot(top_20_overall['Value in thousands'],top_20_overall['Release Clause in thousands'])\n"
   ]
  },
  {
   "cell_type": "markdown",
   "metadata": {},
   "source": [
    "* The release clause of the top 20 players is almost twice that of the existing value."
   ]
  },
  {
   "cell_type": "markdown",
   "metadata": {},
   "source": [
    "#### Overall rating of top 20 players"
   ]
  },
  {
   "cell_type": "markdown",
   "metadata": {},
   "source": [
    "##### Rating vs (wage and release clause)"
   ]
  },
  {
   "cell_type": "code",
   "execution_count": 325,
   "metadata": {},
   "outputs": [
    {
     "data": {
      "text/plain": [
       "<matplotlib.axes._subplots.AxesSubplot at 0x225e293c888>"
      ]
     },
     "execution_count": 325,
     "metadata": {},
     "output_type": "execute_result"
    },
    {
     "data": {
      "image/png": "[encoded data removed]",
      "text/plain": [
       "<Figure size 1008x432 with 2 Axes>"
      ]
     },
     "metadata": {
      "needs_background": "light"
     },
     "output_type": "display_data"
    }
   ],
   "source": [
    "f,ax = plt.subplots(1,2,figsize = (14,6))\n",
    "plt.subplots_adjust(wspace = 0.3)  \n",
    "sns.barplot('Overall','Wage in thousands',data = top_20_overall,ax = ax[0])\n",
    "sns.barplot('Overall','Release Clause in thousands',data = top_20_overall,ax = ax[1])"
   ]
  },
  {
   "cell_type": "markdown",
   "metadata": {},
   "source": [
    "Release clause and wage plays very important role as the club should be able to manage the expeneses.\n",
    "\n",
    "* Wage increases with increase in overall score and also release clause. \n",
    "* There is a huge difference in terms of money when compared to score 85 and 91. \n",
    "* players who have score of 85 seems to have average release clause of '35000K' where players with score of 91 have '13000K'."
   ]
  },
  {
   "cell_type": "markdown",
   "metadata": {},
   "source": [
    "##### Rating vs position"
   ]
  },
  {
   "cell_type": "code",
   "execution_count": 335,
   "metadata": {},
   "outputs": [
    {
     "data": {
      "text/plain": [
       "(array([ 0,  1,  2,  3,  4,  5,  6,  7,  8,  9, 10, 11, 12, 13]),\n",
       " <a list of 14 Text xticklabel objects>)"
      ]
     },
     "execution_count": 335,
     "metadata": {},
     "output_type": "execute_result"
    },
    {
     "data": {
      "image/png": "[encoded data removed]",
      "text/plain": [
       "<Figure size 432x288 with 1 Axes>"
      ]
     },
     "metadata": {
      "needs_background": "light"
     },
     "output_type": "display_data"
    }
   ],
   "source": [
    "sns.barplot(y = 'Overall',x = 'Position',data = top_20_overall)\n",
    "plt.xticks(rotation = 90)"
   ]
  },
  {
   "cell_type": "markdown",
   "metadata": {},
   "source": [
    "* All the selected top 20 players who plays in the respective positions have very good ratings."
   ]
  },
  {
   "cell_type": "markdown",
   "metadata": {},
   "source": [
    "#### Rating vs work rate"
   ]
  },
  {
   "cell_type": "code",
   "execution_count": 340,
   "metadata": {},
   "outputs": [
    {
     "data": {
      "text/plain": [
       "(array([0, 1, 2, 3, 4]), <a list of 5 Text xticklabel objects>)"
      ]
     },
     "execution_count": 340,
     "metadata": {},
     "output_type": "execute_result"
    },
    {
     "data": {
      "image/png": "[encoded data removed]",
      "text/plain": [
       "<Figure size 432x288 with 1 Axes>"
      ]
     },
     "metadata": {
      "needs_background": "light"
     },
     "output_type": "display_data"
    }
   ],
   "source": [
    "sns.barplot(y = 'Overall',x = 'Work Rate',data = top_20_overall)\n",
    "plt.xticks(rotation = 90)"
   ]
  },
  {
   "cell_type": "markdown",
   "metadata": {},
   "source": [
    "* The average rating of work rate also seems to be good."
   ]
  },
  {
   "cell_type": "markdown",
   "metadata": {},
   "source": [
    "### Conclusion:"
   ]
  },
  {
   "cell_type": "markdown",
   "metadata": {},
   "source": [
    "The aim of selection of top 20 players for the newly formed club comes to an end.\n",
    "\n",
    "From the analysis, I would like to conclude that\n",
    "\n",
    "* Overall rating plays a key role in selecting the players.\n",
    "* Selected top 20 players with respect to overall score have mostly unique positions which helps in team formation.\n",
    "* All the selected players contract ends in 2020. \n",
    "* The work rate of the players seem to be good. \n",
    "* There are few left-footers which is added advantage for the team.\n",
    "* As overall score increase , the values of 'Value','Wage','Release Clause' also increases.\n",
    "* In terms of budget,management should be careful while making decisions.\n",
    "\n",
    "This is an attempt to help the management to select top 15 players from the given set of players. Yet a lot of newer insights still can be gained on further exploration of the data."
   ]
  },
  {
   "cell_type": "code",
   "execution_count": null,
   "metadata": {},
   "outputs": [],
   "source": []
  }
 ],
 "metadata": {
  "kernelspec": {
   "display_name": "Python 3",
   "language": "python",
   "name": "python3"
  },
  "language_info": {
   "codemirror_mode": {
    "name": "ipython",
    "version": 3
   },
   "file_extension": ".py",
   "mimetype": "text/x-python",
   "name": "python",
   "nbconvert_exporter": "python",
   "pygments_lexer": "ipython3",
   "version": "3.7.7"
  }
 },
 "nbformat": 4,
 "nbformat_minor": 4
}
