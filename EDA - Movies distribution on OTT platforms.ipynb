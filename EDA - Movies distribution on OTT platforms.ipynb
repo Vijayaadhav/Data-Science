{
 "cells": [
  {
   "cell_type": "markdown",
   "metadata": {},
   "source": [
    "## Movie Distribution in OTT platforms"
   ]
  },
  {
   "cell_type": "markdown",
   "metadata": {},
   "source": [
    "In the latest 21st century, technology plays a vital role all over the world. One of the best emerging technologies are OTT platforms.\n",
    "\n",
    "Over the past decade streaming companies completely shook up the distribution method that reigned supreme for the better part of a century.OTT stands for an over-the-top streaming media service.These internet-based services hop “over-the-top” of traditional programming distributors like cable, satellite, and broadcasting.\n",
    "\n",
    "Now-a-days, everyone has their own smart gadgets such as laptop,smartphone,tablets with 24 hrs wifi connection. This made the filmmakers easy to take their movies to all the customers through the OTT platforms such as 'Netflix','Amazon' etc.\n",
    "\n",
    "This Dataset Contains the information of Movies present in the various OTT platforms. It provides detailed information such as Director,Genre,Language,Runtime,Rating on each movies."
   ]
  },
  {
   "cell_type": "code",
   "execution_count": 53,
   "metadata": {},
   "outputs": [],
   "source": [
    "import numpy as np\n",
    "import pandas as pd \n",
    "import matplotlib.pyplot as plt\n",
    "import seaborn as sns\n",
    "%matplotlib inline"
   ]
  },
  {
   "cell_type": "code",
   "execution_count": null,
   "metadata": {},
   "outputs": [],
   "source": [
    "Movies = pd.read_csv('MoviesOnStreamingPlatforms_updated.csv')"
   ]
  },
  {
   "cell_type": "code",
   "execution_count": 54,
   "metadata": {},
   "outputs": [],
   "source": [
    "Movies = pd.read_csv('D:\\Great learning\\Dataset\\MoviesOnStreamingPlatforms_updated.csv')"
   ]
  },
  {
   "cell_type": "code",
   "execution_count": 55,
   "metadata": {
    "scrolled": true
   },
   "outputs": [
    {
     "data": {
      "text/html": [
       "<div>\n",
       "<style scoped>\n",
       "    .dataframe tbody tr th:only-of-type {\n",
       "        vertical-align: middle;\n",
       "    }\n",
       "\n",
       "    .dataframe tbody tr th {\n",
       "        vertical-align: top;\n",
       "    }\n",
       "\n",
       "    .dataframe thead th {\n",
       "        text-align: right;\n",
       "    }\n",
       "</style>\n",
       "<table border=\"1\" class=\"dataframe\">\n",
       "  <thead>\n",
       "    <tr style=\"text-align: right;\">\n",
       "      <th></th>\n",
       "      <th>Unnamed: 0</th>\n",
       "      <th>ID</th>\n",
       "      <th>Title</th>\n",
       "      <th>Year</th>\n",
       "      <th>Age</th>\n",
       "      <th>IMDb</th>\n",
       "      <th>Rotten Tomatoes</th>\n",
       "      <th>Netflix</th>\n",
       "      <th>Hulu</th>\n",
       "      <th>Prime Video</th>\n",
       "      <th>Disney+</th>\n",
       "      <th>Type</th>\n",
       "      <th>Directors</th>\n",
       "      <th>Genres</th>\n",
       "      <th>Country</th>\n",
       "      <th>Language</th>\n",
       "      <th>Runtime</th>\n",
       "    </tr>\n",
       "  </thead>\n",
       "  <tbody>\n",
       "    <tr>\n",
       "      <th>0</th>\n",
       "      <td>0</td>\n",
       "      <td>1</td>\n",
       "      <td>Inception</td>\n",
       "      <td>2010</td>\n",
       "      <td>13+</td>\n",
       "      <td>8.8</td>\n",
       "      <td>87%</td>\n",
       "      <td>1</td>\n",
       "      <td>0</td>\n",
       "      <td>0</td>\n",
       "      <td>0</td>\n",
       "      <td>0</td>\n",
       "      <td>Christopher Nolan</td>\n",
       "      <td>Action,Adventure,Sci-Fi,Thriller</td>\n",
       "      <td>United States,United Kingdom</td>\n",
       "      <td>English,Japanese,French</td>\n",
       "      <td>148.0</td>\n",
       "    </tr>\n",
       "    <tr>\n",
       "      <th>1</th>\n",
       "      <td>1</td>\n",
       "      <td>2</td>\n",
       "      <td>The Matrix</td>\n",
       "      <td>1999</td>\n",
       "      <td>18+</td>\n",
       "      <td>8.7</td>\n",
       "      <td>87%</td>\n",
       "      <td>1</td>\n",
       "      <td>0</td>\n",
       "      <td>0</td>\n",
       "      <td>0</td>\n",
       "      <td>0</td>\n",
       "      <td>Lana Wachowski,Lilly Wachowski</td>\n",
       "      <td>Action,Sci-Fi</td>\n",
       "      <td>United States</td>\n",
       "      <td>English</td>\n",
       "      <td>136.0</td>\n",
       "    </tr>\n",
       "    <tr>\n",
       "      <th>2</th>\n",
       "      <td>2</td>\n",
       "      <td>3</td>\n",
       "      <td>Avengers: Infinity War</td>\n",
       "      <td>2018</td>\n",
       "      <td>13+</td>\n",
       "      <td>8.5</td>\n",
       "      <td>84%</td>\n",
       "      <td>1</td>\n",
       "      <td>0</td>\n",
       "      <td>0</td>\n",
       "      <td>0</td>\n",
       "      <td>0</td>\n",
       "      <td>Anthony Russo,Joe Russo</td>\n",
       "      <td>Action,Adventure,Sci-Fi</td>\n",
       "      <td>United States</td>\n",
       "      <td>English</td>\n",
       "      <td>149.0</td>\n",
       "    </tr>\n",
       "    <tr>\n",
       "      <th>3</th>\n",
       "      <td>3</td>\n",
       "      <td>4</td>\n",
       "      <td>Back to the Future</td>\n",
       "      <td>1985</td>\n",
       "      <td>7+</td>\n",
       "      <td>8.5</td>\n",
       "      <td>96%</td>\n",
       "      <td>1</td>\n",
       "      <td>0</td>\n",
       "      <td>0</td>\n",
       "      <td>0</td>\n",
       "      <td>0</td>\n",
       "      <td>Robert Zemeckis</td>\n",
       "      <td>Adventure,Comedy,Sci-Fi</td>\n",
       "      <td>United States</td>\n",
       "      <td>English</td>\n",
       "      <td>116.0</td>\n",
       "    </tr>\n",
       "    <tr>\n",
       "      <th>4</th>\n",
       "      <td>4</td>\n",
       "      <td>5</td>\n",
       "      <td>The Good, the Bad and the Ugly</td>\n",
       "      <td>1966</td>\n",
       "      <td>18+</td>\n",
       "      <td>8.8</td>\n",
       "      <td>97%</td>\n",
       "      <td>1</td>\n",
       "      <td>0</td>\n",
       "      <td>1</td>\n",
       "      <td>0</td>\n",
       "      <td>0</td>\n",
       "      <td>Sergio Leone</td>\n",
       "      <td>Western</td>\n",
       "      <td>Italy,Spain,West Germany</td>\n",
       "      <td>Italian</td>\n",
       "      <td>161.0</td>\n",
       "    </tr>\n",
       "  </tbody>\n",
       "</table>\n",
       "</div>"
      ],
      "text/plain": [
       "   Unnamed: 0  ID                           Title  Year  Age  IMDb  \\\n",
       "0           0   1                       Inception  2010  13+   8.8   \n",
       "1           1   2                      The Matrix  1999  18+   8.7   \n",
       "2           2   3          Avengers: Infinity War  2018  13+   8.5   \n",
       "3           3   4              Back to the Future  1985   7+   8.5   \n",
       "4           4   5  The Good, the Bad and the Ugly  1966  18+   8.8   \n",
       "\n",
       "  Rotten Tomatoes  Netflix  Hulu  Prime Video  Disney+  Type  \\\n",
       "0             87%        1     0            0        0     0   \n",
       "1             87%        1     0            0        0     0   \n",
       "2             84%        1     0            0        0     0   \n",
       "3             96%        1     0            0        0     0   \n",
       "4             97%        1     0            1        0     0   \n",
       "\n",
       "                        Directors                            Genres  \\\n",
       "0               Christopher Nolan  Action,Adventure,Sci-Fi,Thriller   \n",
       "1  Lana Wachowski,Lilly Wachowski                     Action,Sci-Fi   \n",
       "2         Anthony Russo,Joe Russo           Action,Adventure,Sci-Fi   \n",
       "3                 Robert Zemeckis           Adventure,Comedy,Sci-Fi   \n",
       "4                    Sergio Leone                           Western   \n",
       "\n",
       "                        Country                 Language  Runtime  \n",
       "0  United States,United Kingdom  English,Japanese,French    148.0  \n",
       "1                 United States                  English    136.0  \n",
       "2                 United States                  English    149.0  \n",
       "3                 United States                  English    116.0  \n",
       "4      Italy,Spain,West Germany                  Italian    161.0  "
      ]
     },
     "execution_count": 55,
     "metadata": {},
     "output_type": "execute_result"
    }
   ],
   "source": [
    "Movies.head()"
   ]
  },
  {
   "cell_type": "code",
   "execution_count": 56,
   "metadata": {
    "scrolled": true
   },
   "outputs": [
    {
     "name": "stdout",
     "output_type": "stream",
     "text": [
      "<class 'pandas.core.frame.DataFrame'>\n",
      "RangeIndex: 16744 entries, 0 to 16743\n",
      "Data columns (total 17 columns):\n",
      " #   Column           Non-Null Count  Dtype  \n",
      "---  ------           --------------  -----  \n",
      " 0   Unnamed: 0       16744 non-null  int64  \n",
      " 1   ID               16744 non-null  int64  \n",
      " 2   Title            16744 non-null  object \n",
      " 3   Year             16744 non-null  int64  \n",
      " 4   Age              7354 non-null   object \n",
      " 5   IMDb             16173 non-null  float64\n",
      " 6   Rotten Tomatoes  5158 non-null   object \n",
      " 7   Netflix          16744 non-null  int64  \n",
      " 8   Hulu             16744 non-null  int64  \n",
      " 9   Prime Video      16744 non-null  int64  \n",
      " 10  Disney+          16744 non-null  int64  \n",
      " 11  Type             16744 non-null  int64  \n",
      " 12  Directors        16018 non-null  object \n",
      " 13  Genres           16469 non-null  object \n",
      " 14  Country          16309 non-null  object \n",
      " 15  Language         16145 non-null  object \n",
      " 16  Runtime          16152 non-null  float64\n",
      "dtypes: float64(2), int64(8), object(7)\n",
      "memory usage: 2.2+ MB\n"
     ]
    }
   ],
   "source": [
    "Movies.info()"
   ]
  },
  {
   "cell_type": "markdown",
   "metadata": {},
   "source": [
    "* There are 10 numerical columns and 7 categorical columns present in the dataset."
   ]
  },
  {
   "cell_type": "code",
   "execution_count": null,
   "metadata": {},
   "outputs": [],
   "source": []
  },
  {
   "cell_type": "markdown",
   "metadata": {},
   "source": [
    "## Data  Cleaning"
   ]
  },
  {
   "cell_type": "markdown",
   "metadata": {},
   "source": [
    "#### Columns Removal"
   ]
  },
  {
   "cell_type": "code",
   "execution_count": 57,
   "metadata": {},
   "outputs": [],
   "source": [
    "Movies.drop(['Unnamed: 0','ID','Rotten Tomatoes'],axis = 1,inplace = True)"
   ]
  },
  {
   "cell_type": "code",
   "execution_count": 58,
   "metadata": {},
   "outputs": [
    {
     "data": {
      "text/plain": [
       "Index(['Title', 'Year', 'Age', 'IMDb', 'Netflix', 'Hulu', 'Prime Video',\n",
       "       'Disney+', 'Type', 'Directors', 'Genres', 'Country', 'Language',\n",
       "       'Runtime'],\n",
       "      dtype='object')"
      ]
     },
     "execution_count": 58,
     "metadata": {},
     "output_type": "execute_result"
    }
   ],
   "source": [
    "Movies.columns"
   ]
  },
  {
   "cell_type": "code",
   "execution_count": 59,
   "metadata": {},
   "outputs": [
    {
     "name": "stdout",
     "output_type": "stream",
     "text": [
      "No of features: 14 \n",
      "No of Movies: 16744\n"
     ]
    }
   ],
   "source": [
    "print('No of features:',Movies.shape[1],'\\nNo of Movies:',Movies.shape[0])"
   ]
  },
  {
   "cell_type": "markdown",
   "metadata": {},
   "source": [
    "#### Missing Value Treatment"
   ]
  },
  {
   "cell_type": "markdown",
   "metadata": {},
   "source": [
    "##### Age"
   ]
  },
  {
   "cell_type": "code",
   "execution_count": 60,
   "metadata": {
    "scrolled": true
   },
   "outputs": [
    {
     "data": {
      "text/plain": [
       "Title             0\n",
       "Year              0\n",
       "Age            9390\n",
       "IMDb            571\n",
       "Netflix           0\n",
       "Hulu              0\n",
       "Prime Video       0\n",
       "Disney+           0\n",
       "Type              0\n",
       "Directors       726\n",
       "Genres          275\n",
       "Country         435\n",
       "Language        599\n",
       "Runtime         592\n",
       "dtype: int64"
      ]
     },
     "execution_count": 60,
     "metadata": {},
     "output_type": "execute_result"
    }
   ],
   "source": [
    "Movies.isnull().sum()"
   ]
  },
  {
   "cell_type": "code",
   "execution_count": null,
   "metadata": {},
   "outputs": [],
   "source": []
  },
  {
   "cell_type": "code",
   "execution_count": 61,
   "metadata": {},
   "outputs": [],
   "source": [
    "Movies[['Directors','Genres','Country','Language','Runtime','Age']] = Movies[['Directors','Genres','Country','Language','Runtime','Age']].fillna('NA')"
   ]
  },
  {
   "cell_type": "code",
   "execution_count": 110,
   "metadata": {
    "scrolled": false
   },
   "outputs": [
    {
     "data": {
      "text/plain": [
       "0     9390\n",
       "18    3474\n",
       "7     1462\n",
       "13    1255\n",
       "1      843\n",
       "16     320\n",
       "Name: Age, dtype: int64"
      ]
     },
     "execution_count": 110,
     "metadata": {},
     "output_type": "execute_result"
    }
   ],
   "source": [
    "Movies['Age'].value_counts()"
   ]
  },
  {
   "cell_type": "code",
   "execution_count": 117,
   "metadata": {
    "scrolled": true
   },
   "outputs": [
    {
     "data": {
      "text/plain": [
       "0        13\n",
       "1        18\n",
       "2        13\n",
       "3         7\n",
       "4        18\n",
       "         ..\n",
       "16739     0\n",
       "16740     7\n",
       "16741     0\n",
       "16742     0\n",
       "16743     0\n",
       "Name: Age, Length: 16744, dtype: int32"
      ]
     },
     "execution_count": 117,
     "metadata": {},
     "output_type": "execute_result"
    }
   ],
   "source": [
    "Movies['Age'] = Movies['Age'].replace('+','')\n",
    "Movies['Age'] = Movies['Age'].replace('NA','0')\n",
    "Movies['Age'] = Movies['Age'].replace('all','1')\n",
    "Movies['Age'].astype(int)"
   ]
  },
  {
   "cell_type": "markdown",
   "metadata": {},
   "source": [
    "* 1 - represents all age group\n",
    "* 0 - represent null value "
   ]
  },
  {
   "cell_type": "code",
   "execution_count": 64,
   "metadata": {},
   "outputs": [],
   "source": [
    "Movies['Age'] = Movies['Age'].astype(int)"
   ]
  },
  {
   "cell_type": "code",
   "execution_count": 65,
   "metadata": {},
   "outputs": [
    {
     "data": {
      "text/plain": [
       "<matplotlib.axes._subplots.AxesSubplot at 0x1c225158b88>"
      ]
     },
     "execution_count": 65,
     "metadata": {},
     "output_type": "execute_result"
    },
    {
     "data": {
      "image/png": "[encoded data removed]",
      "text/plain": [
       "<Figure size 432x288 with 1 Axes>"
      ]
     },
     "metadata": {
      "needs_background": "light"
     },
     "output_type": "display_data"
    }
   ],
   "source": [
    "sns.kdeplot(Movies.loc[Movies['Age'] >0 ,'Age'],shade = True)"
   ]
  },
  {
   "cell_type": "code",
   "execution_count": 66,
   "metadata": {},
   "outputs": [
    {
     "data": {
      "text/plain": [
       "16.0"
      ]
     },
     "execution_count": 66,
     "metadata": {},
     "output_type": "execute_result"
    }
   ],
   "source": [
    "Movies.loc[Movies['Age'] >0 ,'Age'].median()"
   ]
  },
  {
   "cell_type": "code",
   "execution_count": null,
   "metadata": {
    "scrolled": true
   },
   "outputs": [],
   "source": []
  },
  {
   "cell_type": "markdown",
   "metadata": {},
   "source": [
    "##### IMDb"
   ]
  },
  {
   "cell_type": "code",
   "execution_count": 67,
   "metadata": {},
   "outputs": [
    {
     "data": {
      "text/plain": [
       "<matplotlib.legend.Legend at 0x1c22526ce48>"
      ]
     },
     "execution_count": 67,
     "metadata": {},
     "output_type": "execute_result"
    },
    {
     "data": {
      "image/png": "[encoded data removed]",
      "text/plain": [
       "<Figure size 432x288 with 1 Axes>"
      ]
     },
     "metadata": {
      "needs_background": "light"
     },
     "output_type": "display_data"
    }
   ],
   "source": [
    "sns.kdeplot(Movies['IMDb'],shade = True)\n",
    "plt.axvline(x = Movies['IMDb'].median(),color = 'red',label = 'median')\n",
    "plt.legend()"
   ]
  },
  {
   "cell_type": "code",
   "execution_count": 68,
   "metadata": {},
   "outputs": [],
   "source": [
    "Movies['IMDb'].fillna(Movies['IMDb'].median(),inplace = True)"
   ]
  },
  {
   "cell_type": "markdown",
   "metadata": {},
   "source": [
    "## Distribution of Movies"
   ]
  },
  {
   "cell_type": "markdown",
   "metadata": {},
   "source": [
    "Let us understand the distribution of movies based on the features such as 'Directors','Genres','Country','Language','Age' etc."
   ]
  },
  {
   "cell_type": "markdown",
   "metadata": {},
   "source": [
    "##### OTT Platforms"
   ]
  },
  {
   "cell_type": "code",
   "execution_count": 69,
   "metadata": {},
   "outputs": [],
   "source": [
    "m_count = {'platform':['Netflix','Hulu','Prime Video','Disney+'],\n",
    "            'MCount':[Movies['Netflix'].sum(),Movies['Hulu'].sum(),Movies['Prime Video'].sum(),Movies['Disney+'].sum()]}\n",
    "\n",
    "m_count = pd.DataFrame(m_count)"
   ]
  },
  {
   "cell_type": "code",
   "execution_count": 70,
   "metadata": {},
   "outputs": [
    {
     "data": {
      "text/plain": [
       "Text(0, 0.5, 'count')"
      ]
     },
     "execution_count": 70,
     "metadata": {},
     "output_type": "execute_result"
    },
    {
     "data": {
      "image/png": "[encoded data removed]",
      "text/plain": [
       "<Figure size 576x576 with 1 Axes>"
      ]
     },
     "metadata": {
      "needs_background": "light"
     },
     "output_type": "display_data"
    }
   ],
   "source": [
    "plt.figure(figsize=(8,8))\n",
    "sns.barplot(x='platform',y='MCount',data = m_count)\n",
    "plt.xlabel('OTT platform',labelpad = 20)\n",
    "plt.ylabel('count',labelpad = 20)"
   ]
  },
  {
   "cell_type": "markdown",
   "metadata": {},
   "source": [
    "Based on the graph, \n",
    "* 'Prime video' has taken maximum movies compared to all other platforms. \n",
    "* Then it is followed by 'Netflix'.\n",
    "* 'Hulu' and Disney+' has least set of movies."
   ]
  },
  {
   "cell_type": "markdown",
   "metadata": {},
   "source": [
    "##### Directors"
   ]
  },
  {
   "cell_type": "code",
   "execution_count": 71,
   "metadata": {},
   "outputs": [],
   "source": [
    "Dir = Movies.drop('Directors', axis=1).join(\n",
    "    Movies['Directors'].str.split(',', expand=True).stack().reset_index(drop=True, level=1).rename('Director'))\n"
   ]
  },
  {
   "cell_type": "code",
   "execution_count": 72,
   "metadata": {},
   "outputs": [],
   "source": [
    "D_count = Dir['Director'].value_counts().head(15).reset_index().set_index('index')\n",
    "D_count = D_count[1:16]\n"
   ]
  },
  {
   "cell_type": "code",
   "execution_count": 73,
   "metadata": {},
   "outputs": [
    {
     "data": {
      "text/plain": [
       "Text(0, 0.5, 'count')"
      ]
     },
     "execution_count": 73,
     "metadata": {},
     "output_type": "execute_result"
    },
    {
     "data": {
      "image/png": "[encoded data removed]",
      "text/plain": [
       "<Figure size 576x576 with 1 Axes>"
      ]
     },
     "metadata": {
      "needs_background": "light"
     },
     "output_type": "display_data"
    }
   ],
   "source": [
    "plt.figure(figsize=(8,8))\n",
    "sns.barplot(x=D_count.index,y=D_count.Director,data = D_count)\n",
    "plt.xticks(rotation =90)\n",
    "plt.xlabel('Director')\n",
    "plt.ylabel('count')"
   ]
  },
  {
   "cell_type": "markdown",
   "metadata": {},
   "source": [
    "_Directors_ play a vital role in movies.\n",
    "\n",
    "Here, \n",
    "* Jay Chapman stands first with a count of 35+ movies. \n",
    "* Then comes Joseph Kane and cheh chang with 27+ movies."
   ]
  },
  {
   "cell_type": "markdown",
   "metadata": {},
   "source": [
    "##### Language"
   ]
  },
  {
   "cell_type": "code",
   "execution_count": 74,
   "metadata": {},
   "outputs": [],
   "source": [
    "Lang = Movies.drop('Language', axis=1).join(\n",
    "    Movies['Language'].str.split(',', expand=True).stack().reset_index(drop=True, level=1).rename('Language'))"
   ]
  },
  {
   "cell_type": "code",
   "execution_count": 75,
   "metadata": {},
   "outputs": [
    {
     "data": {
      "text/html": [
       "<div>\n",
       "<style scoped>\n",
       "    .dataframe tbody tr th:only-of-type {\n",
       "        vertical-align: middle;\n",
       "    }\n",
       "\n",
       "    .dataframe tbody tr th {\n",
       "        vertical-align: top;\n",
       "    }\n",
       "\n",
       "    .dataframe thead th {\n",
       "        text-align: right;\n",
       "    }\n",
       "</style>\n",
       "<table border=\"1\" class=\"dataframe\">\n",
       "  <thead>\n",
       "    <tr style=\"text-align: right;\">\n",
       "      <th></th>\n",
       "      <th>Language</th>\n",
       "    </tr>\n",
       "    <tr>\n",
       "      <th>index</th>\n",
       "      <th></th>\n",
       "    </tr>\n",
       "  </thead>\n",
       "  <tbody>\n",
       "    <tr>\n",
       "      <th>English</th>\n",
       "      <td>13233</td>\n",
       "    </tr>\n",
       "    <tr>\n",
       "      <th>Spanish</th>\n",
       "      <td>872</td>\n",
       "    </tr>\n",
       "    <tr>\n",
       "      <th>French</th>\n",
       "      <td>799</td>\n",
       "    </tr>\n",
       "    <tr>\n",
       "      <th>Hindi</th>\n",
       "      <td>731</td>\n",
       "    </tr>\n",
       "    <tr>\n",
       "      <th>NA</th>\n",
       "      <td>599</td>\n",
       "    </tr>\n",
       "    <tr>\n",
       "      <th>German</th>\n",
       "      <td>483</td>\n",
       "    </tr>\n",
       "    <tr>\n",
       "      <th>Italian</th>\n",
       "      <td>440</td>\n",
       "    </tr>\n",
       "    <tr>\n",
       "      <th>Mandarin</th>\n",
       "      <td>352</td>\n",
       "    </tr>\n",
       "    <tr>\n",
       "      <th>Japanese</th>\n",
       "      <td>317</td>\n",
       "    </tr>\n",
       "    <tr>\n",
       "      <th>Russian</th>\n",
       "      <td>222</td>\n",
       "    </tr>\n",
       "    <tr>\n",
       "      <th>Arabic</th>\n",
       "      <td>190</td>\n",
       "    </tr>\n",
       "    <tr>\n",
       "      <th>Korean</th>\n",
       "      <td>176</td>\n",
       "    </tr>\n",
       "    <tr>\n",
       "      <th>Cantonese</th>\n",
       "      <td>175</td>\n",
       "    </tr>\n",
       "    <tr>\n",
       "      <th>Tamil</th>\n",
       "      <td>150</td>\n",
       "    </tr>\n",
       "    <tr>\n",
       "      <th>Telugu</th>\n",
       "      <td>112</td>\n",
       "    </tr>\n",
       "    <tr>\n",
       "      <th>Portuguese</th>\n",
       "      <td>108</td>\n",
       "    </tr>\n",
       "    <tr>\n",
       "      <th>Turkish</th>\n",
       "      <td>95</td>\n",
       "    </tr>\n",
       "    <tr>\n",
       "      <th>Hebrew</th>\n",
       "      <td>86</td>\n",
       "    </tr>\n",
       "    <tr>\n",
       "      <th>Swedish</th>\n",
       "      <td>82</td>\n",
       "    </tr>\n",
       "    <tr>\n",
       "      <th>Filipino</th>\n",
       "      <td>72</td>\n",
       "    </tr>\n",
       "    <tr>\n",
       "      <th>Punjabi</th>\n",
       "      <td>69</td>\n",
       "    </tr>\n",
       "    <tr>\n",
       "      <th>Tagalog</th>\n",
       "      <td>69</td>\n",
       "    </tr>\n",
       "    <tr>\n",
       "      <th>Dutch</th>\n",
       "      <td>68</td>\n",
       "    </tr>\n",
       "    <tr>\n",
       "      <th>Latin</th>\n",
       "      <td>63</td>\n",
       "    </tr>\n",
       "    <tr>\n",
       "      <th>Chinese</th>\n",
       "      <td>62</td>\n",
       "    </tr>\n",
       "  </tbody>\n",
       "</table>\n",
       "</div>"
      ],
      "text/plain": [
       "            Language\n",
       "index               \n",
       "English        13233\n",
       "Spanish          872\n",
       "French           799\n",
       "Hindi            731\n",
       "NA               599\n",
       "German           483\n",
       "Italian          440\n",
       "Mandarin         352\n",
       "Japanese         317\n",
       "Russian          222\n",
       "Arabic           190\n",
       "Korean           176\n",
       "Cantonese        175\n",
       "Tamil            150\n",
       "Telugu           112\n",
       "Portuguese       108\n",
       "Turkish           95\n",
       "Hebrew            86\n",
       "Swedish           82\n",
       "Filipino          72\n",
       "Punjabi           69\n",
       "Tagalog           69\n",
       "Dutch             68\n",
       "Latin             63\n",
       "Chinese           62"
      ]
     },
     "execution_count": 75,
     "metadata": {},
     "output_type": "execute_result"
    }
   ],
   "source": [
    "Lang_count = Lang['Language'].value_counts().head(25).reset_index().set_index('index')\n",
    "Lang_count"
   ]
  },
  {
   "cell_type": "code",
   "execution_count": 76,
   "metadata": {
    "scrolled": false
   },
   "outputs": [
    {
     "data": {
      "text/plain": [
       "Text(0, 0.5, 'count')"
      ]
     },
     "execution_count": 76,
     "metadata": {},
     "output_type": "execute_result"
    },
    {
     "data": {
      "image/png": "[encoded data removed]",
      "text/plain": [
       "<Figure size 576x288 with 1 Axes>"
      ]
     },
     "metadata": {
      "needs_background": "light"
     },
     "output_type": "display_data"
    }
   ],
   "source": [
    "plt.figure(figsize=(8,4))\n",
    "sns.barplot(x=Lang_count.index,y=Lang_count.Language,data = m_count)\n",
    "plt.xticks(rotation =90)\n",
    "plt.xlabel('Language')\n",
    "plt.ylabel('count')"
   ]
  },
  {
   "cell_type": "markdown",
   "metadata": {},
   "source": [
    "* Most of the movies present is of 'English' Language.\n",
    "\n",
    "* The reason might be of global language and priority is given to english movies than any other regional languages."
   ]
  },
  {
   "cell_type": "markdown",
   "metadata": {},
   "source": [
    "##### Genre"
   ]
  },
  {
   "cell_type": "code",
   "execution_count": 77,
   "metadata": {},
   "outputs": [],
   "source": [
    "Genre = Movies.drop('Genres', axis=1).join(\n",
    "    Movies['Genres'].str.split(',', expand=True).stack().reset_index(drop=True, level=1).rename('Genre'))\n",
    "Genre_count = Genre['Genre'].value_counts().reset_index().set_index('index')\n"
   ]
  },
  {
   "cell_type": "code",
   "execution_count": 78,
   "metadata": {},
   "outputs": [
    {
     "data": {
      "text/plain": [
       "Text(0, 0.5, 'count')"
      ]
     },
     "execution_count": 78,
     "metadata": {},
     "output_type": "execute_result"
    },
    {
     "data": {
      "image/png": "[encoded data removed]",
      "text/plain": [
       "<Figure size 576x576 with 1 Axes>"
      ]
     },
     "metadata": {
      "needs_background": "light"
     },
     "output_type": "display_data"
    }
   ],
   "source": [
    "plt.figure(figsize=(8,8))\n",
    "sns.barplot(x=Genre_count.index,y=Genre_count.Genre,data = m_count)\n",
    "plt.xticks(rotation =90)\n",
    "plt.xlabel('Genre')\n",
    "plt.ylabel('count')"
   ]
  },
  {
   "cell_type": "markdown",
   "metadata": {},
   "source": [
    "* Most of the movies comes under genre 'Drama'. \n",
    "\n",
    "* It has been given importance in all the platforms as it gathers attention of \n",
    "all the family audience.\n",
    "\n",
    "* Then it is followed by 'Comedy','Thriller','Action'."
   ]
  },
  {
   "cell_type": "code",
   "execution_count": 144,
   "metadata": {},
   "outputs": [
    {
     "data": {
      "image/png": "[encoded data removed]",
      "text/plain": [
       "<Figure size 864x720 with 1 Axes>"
      ]
     },
     "metadata": {
      "needs_background": "light"
     },
     "output_type": "display_data"
    }
   ],
   "source": [
    "lis = []\n",
    "for i in range(0,Genre.shape[0]):\n",
    "    lis.append(Genre.iloc[i,13])\n",
    "    \n",
    "from collections import Counter\n",
    "G_count = Counter(lis)\n",
    "\n",
    "from wordcloud import WordCloud\n",
    "wc = WordCloud(background_color='white')\n",
    "wc.generate_from_frequencies(G_count)\n",
    "plt.figure(figsize=(12,10))\n",
    "plt.imshow(wc,interpolation='bilinear')\n",
    "plt.axis('off')\n",
    "plt.show()"
   ]
  },
  {
   "cell_type": "markdown",
   "metadata": {},
   "source": [
    "## Analysis"
   ]
  },
  {
   "cell_type": "markdown",
   "metadata": {},
   "source": [
    "we have seen how the movies are distributed based on 'Platforms','Language','Genre','Directors'.\n",
    "Now lets start analysing each and every feature."
   ]
  },
  {
   "cell_type": "markdown",
   "metadata": {},
   "source": [
    "#### Language"
   ]
  },
  {
   "cell_type": "markdown",
   "metadata": {},
   "source": [
    "###### Language vs platforms"
   ]
  },
  {
   "cell_type": "code",
   "execution_count": 79,
   "metadata": {},
   "outputs": [],
   "source": [
    "L_Netflix = Lang.loc[Lang['Netflix'] == 1,'Language'].value_counts().reset_index().set_index('index').drop('NA',axis =0)\n",
    "L_Prime =  Lang.loc[Lang['Prime Video'] == 1,'Language'].value_counts().reset_index().set_index('index').drop('NA',axis =0)\n",
    "L_Hulu = Lang.loc[Lang['Hulu'] == 1,'Language'].value_counts().reset_index().set_index('index').drop('NA',axis =0)\n",
    "L_Disney = Lang.loc[Lang['Disney+'] == 1,'Language'].value_counts().reset_index().set_index('index').drop('NA',axis =0)\n"
   ]
  },
  {
   "cell_type": "code",
   "execution_count": 116,
   "metadata": {},
   "outputs": [
    {
     "data": {
      "text/plain": [
       "Text(0.004, 0.5, 'Count')"
      ]
     },
     "execution_count": 116,
     "metadata": {},
     "output_type": "execute_result"
    },
    {
     "data": {
      "image/png": "[encoded data removed]",
      "text/plain": [
       "<Figure size 864x864 with 4 Axes>"
      ]
     },
     "metadata": {
      "needs_background": "light"
     },
     "output_type": "display_data"
    }
   ],
   "source": [
    "fig , axes = plt.subplots(2,2,figsize = (12,12))\n",
    " \n",
    "plt.subplots_adjust(hspace = 0.6,wspace = 0.5)    \n",
    "    \n",
    "L_Netflix.head(10).plot(kind = 'bar',ax = axes[0,0])\n",
    "axes[0,0].set_title('Netflix')\n",
    "axes[0,0].set_xlabel('')\n",
    "axes[0,0].set_ylabel('')\n",
    "\n",
    "L_Prime.head(10).plot(kind = 'bar',ax = axes[0,1])\n",
    "axes[0,1].set_title('Prime Video')\n",
    "axes[0,1].set_xlabel('')\n",
    "axes[0,1].set_ylabel('')\n",
    "\n",
    "\n",
    "L_Hulu.head(10).plot(kind = 'bar',ax = axes[1,0])\n",
    "axes[1,0].set_title('Hulu')\n",
    "axes[1,0].set_xlabel('')\n",
    "axes[1,0].set_ylabel('')\n",
    "\n",
    "\n",
    "\n",
    "L_Disney.head(10).plot(kind = 'bar',ax = axes[1,1])\n",
    "axes[1,1].set_title('Disney')\n",
    "\n",
    "axes[1,1].set_xlabel('')\n",
    "axes[1,1].set_ylabel('')\n",
    "\n",
    "fig.text(0.5, 0.004, 'Language', ha='center',fontsize = 'large')\n",
    "fig.text(0.004, 0.5, 'Count', va='center', rotation='vertical',fontsize = 'large')"
   ]
  },
  {
   "cell_type": "markdown",
   "metadata": {},
   "source": [
    "#### All the platforms has more number of movies on 'English' language.\n",
    "\n",
    "* <strong> Netflix:</strong> \n",
    "    Followed by 'English' , Hindi and spanish movies comes in line.\n",
    "    \n",
    "* <strong> Prime Video: </strong>\n",
    "    Followed by 'English' , French and spanish movies comes in line. 'Hindi' movies stands behind these three.\n",
    "\n",
    "* <strong> Hulu </strong>:\n",
    "    Followed by 'English' , French and spanish movies comes in line. 'German' movies stands behind these three.\n",
    "\n",
    "* <strong> Disney+ </strong>:\n",
    "    Followed by 'English' , French and spanish movies comes in line. 'German' comes after all these.\n"
   ]
  },
  {
   "cell_type": "markdown",
   "metadata": {},
   "source": [
    "###### Language vs ratings"
   ]
  },
  {
   "cell_type": "code",
   "execution_count": 81,
   "metadata": {
    "scrolled": true
   },
   "outputs": [],
   "source": [
    "L_ratings = Lang.groupby('Language')['IMDb'].median()"
   ]
  },
  {
   "cell_type": "code",
   "execution_count": 82,
   "metadata": {},
   "outputs": [
    {
     "data": {
      "text/html": [
       "<div>\n",
       "<style scoped>\n",
       "    .dataframe tbody tr th:only-of-type {\n",
       "        vertical-align: middle;\n",
       "    }\n",
       "\n",
       "    .dataframe tbody tr th {\n",
       "        vertical-align: top;\n",
       "    }\n",
       "\n",
       "    .dataframe thead th {\n",
       "        text-align: right;\n",
       "    }\n",
       "</style>\n",
       "<table border=\"1\" class=\"dataframe\">\n",
       "  <thead>\n",
       "    <tr style=\"text-align: right;\">\n",
       "      <th></th>\n",
       "      <th>IMDb</th>\n",
       "    </tr>\n",
       "    <tr>\n",
       "      <th>Language</th>\n",
       "      <th></th>\n",
       "    </tr>\n",
       "  </thead>\n",
       "  <tbody>\n",
       "    <tr>\n",
       "      <th>Ancient (to 1453)</th>\n",
       "      <td>4.70</td>\n",
       "    </tr>\n",
       "    <tr>\n",
       "      <th>Aboriginal</th>\n",
       "      <td>6.90</td>\n",
       "    </tr>\n",
       "    <tr>\n",
       "      <th>Acholi</th>\n",
       "      <td>6.10</td>\n",
       "    </tr>\n",
       "    <tr>\n",
       "      <th>Afrikaans</th>\n",
       "      <td>6.20</td>\n",
       "    </tr>\n",
       "    <tr>\n",
       "      <th>Akan</th>\n",
       "      <td>6.40</td>\n",
       "    </tr>\n",
       "    <tr>\n",
       "      <th>...</th>\n",
       "      <td>...</td>\n",
       "    </tr>\n",
       "    <tr>\n",
       "      <th>Wolof</th>\n",
       "      <td>6.70</td>\n",
       "    </tr>\n",
       "    <tr>\n",
       "      <th>Xhosa</th>\n",
       "      <td>7.85</td>\n",
       "    </tr>\n",
       "    <tr>\n",
       "      <th>Yiddish</th>\n",
       "      <td>6.60</td>\n",
       "    </tr>\n",
       "    <tr>\n",
       "      <th>Yoruba</th>\n",
       "      <td>6.05</td>\n",
       "    </tr>\n",
       "    <tr>\n",
       "      <th>Zulu</th>\n",
       "      <td>6.95</td>\n",
       "    </tr>\n",
       "  </tbody>\n",
       "</table>\n",
       "<p>179 rows × 1 columns</p>\n",
       "</div>"
      ],
      "text/plain": [
       "                    IMDb\n",
       "Language                \n",
       " Ancient (to 1453)  4.70\n",
       "Aboriginal          6.90\n",
       "Acholi              6.10\n",
       "Afrikaans           6.20\n",
       "Akan                6.40\n",
       "...                  ...\n",
       "Wolof               6.70\n",
       "Xhosa               7.85\n",
       "Yiddish             6.60\n",
       "Yoruba              6.05\n",
       "Zulu                6.95\n",
       "\n",
       "[179 rows x 1 columns]"
      ]
     },
     "execution_count": 82,
     "metadata": {},
     "output_type": "execute_result"
    }
   ],
   "source": [
    "L_ratings = L_ratings.reset_index().set_index('Language')\n",
    "L_ratings"
   ]
  },
  {
   "cell_type": "code",
   "execution_count": 83,
   "metadata": {
    "scrolled": true
   },
   "outputs": [
    {
     "data": {
      "text/plain": [
       "Language\n",
       "English     6.00\n",
       "Hindi       6.50\n",
       "Spanish     6.20\n",
       "French      6.50\n",
       "German      6.50\n",
       "Italian     6.30\n",
       "Japanese    6.70\n",
       "Korean      6.45\n",
       "Mandarin    6.40\n",
       "Name: IMDb, dtype: float64"
      ]
     },
     "execution_count": 83,
     "metadata": {},
     "output_type": "execute_result"
    }
   ],
   "source": [
    "Top_10_lang = L_ratings.loc[['English','Hindi','Spanish','French','German','Italian'\n",
    "                                                      ,'Japanese','Korean','Mandarin'],'IMDb']\n",
    "Top_10_lang"
   ]
  },
  {
   "cell_type": "code",
   "execution_count": 84,
   "metadata": {},
   "outputs": [
    {
     "data": {
      "text/html": [
       "<div>\n",
       "<style scoped>\n",
       "    .dataframe tbody tr th:only-of-type {\n",
       "        vertical-align: middle;\n",
       "    }\n",
       "\n",
       "    .dataframe tbody tr th {\n",
       "        vertical-align: top;\n",
       "    }\n",
       "\n",
       "    .dataframe thead th {\n",
       "        text-align: right;\n",
       "    }\n",
       "</style>\n",
       "<table border=\"1\" class=\"dataframe\">\n",
       "  <thead>\n",
       "    <tr style=\"text-align: right;\">\n",
       "      <th></th>\n",
       "      <th>IMDb</th>\n",
       "    </tr>\n",
       "    <tr>\n",
       "      <th>index</th>\n",
       "      <th></th>\n",
       "    </tr>\n",
       "  </thead>\n",
       "  <tbody>\n",
       "    <tr>\n",
       "      <th>0</th>\n",
       "      <td>8.8</td>\n",
       "    </tr>\n",
       "    <tr>\n",
       "      <th>1</th>\n",
       "      <td>8.7</td>\n",
       "    </tr>\n",
       "    <tr>\n",
       "      <th>2</th>\n",
       "      <td>8.5</td>\n",
       "    </tr>\n",
       "    <tr>\n",
       "      <th>3</th>\n",
       "      <td>8.5</td>\n",
       "    </tr>\n",
       "    <tr>\n",
       "      <th>5</th>\n",
       "      <td>8.4</td>\n",
       "    </tr>\n",
       "    <tr>\n",
       "      <th>...</th>\n",
       "      <td>...</td>\n",
       "    </tr>\n",
       "    <tr>\n",
       "      <th>16739</th>\n",
       "      <td>6.2</td>\n",
       "    </tr>\n",
       "    <tr>\n",
       "      <th>16740</th>\n",
       "      <td>4.7</td>\n",
       "    </tr>\n",
       "    <tr>\n",
       "      <th>16741</th>\n",
       "      <td>5.7</td>\n",
       "    </tr>\n",
       "    <tr>\n",
       "      <th>16742</th>\n",
       "      <td>6.6</td>\n",
       "    </tr>\n",
       "    <tr>\n",
       "      <th>16743</th>\n",
       "      <td>6.1</td>\n",
       "    </tr>\n",
       "  </tbody>\n",
       "</table>\n",
       "<p>13233 rows × 1 columns</p>\n",
       "</div>"
      ],
      "text/plain": [
       "       IMDb\n",
       "index      \n",
       "0       8.8\n",
       "1       8.7\n",
       "2       8.5\n",
       "3       8.5\n",
       "5       8.4\n",
       "...     ...\n",
       "16739   6.2\n",
       "16740   4.7\n",
       "16741   5.7\n",
       "16742   6.6\n",
       "16743   6.1\n",
       "\n",
       "[13233 rows x 1 columns]"
      ]
     },
     "execution_count": 84,
     "metadata": {},
     "output_type": "execute_result"
    }
   ],
   "source": [
    "Top_10_lang = Top_10_lang.reset_index().set_index('Language')\n",
    "English = Lang.loc[Lang['Language']=='English','IMDb'].reset_index().set_index('index')\n",
    "English"
   ]
  },
  {
   "cell_type": "code",
   "execution_count": 85,
   "metadata": {},
   "outputs": [
    {
     "data": {
      "text/plain": [
       "(array([-2.,  0.,  2.,  4.,  6.,  8., 10., 12.]),\n",
       " <a list of 8 Text xticklabel objects>)"
      ]
     },
     "execution_count": 85,
     "metadata": {},
     "output_type": "execute_result"
    },
    {
     "data": {
      "image/png": "[encoded data removed]",
      "text/plain": [
       "<Figure size 1080x432 with 2 Axes>"
      ]
     },
     "metadata": {
      "needs_background": "light"
     },
     "output_type": "display_data"
    }
   ],
   "source": [
    "fig,axes = plt.subplots(1,2,figsize = (15,6))\n",
    "\n",
    "sns.kdeplot(English['IMDb'],ax = axes[1],shade = True)\n",
    "plt.axvline(English['IMDb'].median(),color = 'red')\n",
    "\n",
    "\n",
    "\n",
    "sns.barplot(x=Top_10_lang.index,y=Top_10_lang['IMDb'],ax = axes[0])\n",
    "plt.xticks(rotation = 'vertical')\n"
   ]
  },
  {
   "cell_type": "markdown",
   "metadata": {},
   "source": [
    "* Top 10 languages have been chosen based on the distribution of movies and average ratings have been calculated.\n",
    "\n",
    "* Since maximum movies are of language 'English', median rating of the movies of 'English' is calculated.\n",
    "\n",
    "* It says that most of the 'English' movies has a median rating of '6.0'\n"
   ]
  },
  {
   "cell_type": "markdown",
   "metadata": {},
   "source": [
    "#### Genre"
   ]
  },
  {
   "cell_type": "markdown",
   "metadata": {},
   "source": [
    "At its core, the genre of your film is primarily a simple tool for categorizing how your film compares to other films.\n",
    "It's a broad bucket of similar elements that lump films together in a way that makes it easier to sell them and easier to convey the general experience of a film"
   ]
  },
  {
   "cell_type": "markdown",
   "metadata": {},
   "source": [
    "##### Genre vs platforms"
   ]
  },
  {
   "cell_type": "code",
   "execution_count": 86,
   "metadata": {},
   "outputs": [],
   "source": [
    "G_Netflix = Genre.loc[Genre['Netflix'] == 1,'Genre'].value_counts().reset_index().set_index('index')\n",
    "G_Prime =  Genre.loc[Genre['Prime Video'] == 1,'Genre'].value_counts().reset_index().set_index('index')\n",
    "G_Hulu = Genre.loc[Genre['Hulu'] == 1,'Genre'].value_counts().reset_index().set_index('index')\n",
    "G_Disney = Genre.loc[Genre['Disney+'] == 1,'Genre'].value_counts().reset_index().set_index('index')"
   ]
  },
  {
   "cell_type": "code",
   "execution_count": 87,
   "metadata": {},
   "outputs": [
    {
     "data": {
      "text/plain": [
       "Text(0.004, 0.5, 'Count')"
      ]
     },
     "execution_count": 87,
     "metadata": {},
     "output_type": "execute_result"
    },
    {
     "data": {
      "image/png": "[encoded data removed]",
      "text/plain": [
       "<Figure size 864x864 with 4 Axes>"
      ]
     },
     "metadata": {
      "needs_background": "light"
     },
     "output_type": "display_data"
    }
   ],
   "source": [
    "fig , axes = plt.subplots(2,2,figsize = (12,12))\n",
    "\n",
    " \n",
    "G_Netflix.head(10).plot(kind = 'bar',ax = axes[0,0],color = 'brown')\n",
    "axes[0,0].set_title('Netflix')\n",
    "axes[0,0].set_xlabel('')\n",
    "axes[0,0].set_ylabel('')\n",
    "\n",
    "G_Prime.head(10).plot(kind = 'bar',ax = axes[0,1],color = 'green')\n",
    "axes[0,1].set_title('Prime Video')\n",
    "axes[0,1].set_xlabel('')\n",
    "\n",
    "G_Hulu.head(10).plot(kind = 'bar',ax = axes[1,0],color = 'gray')\n",
    "axes[1,0].set_title('Hulu')\n",
    "axes[1,0].set_xlabel('')\n",
    "axes[1,0].set_ylabel('')\n",
    "\n",
    "\n",
    "G_Disney.head(10).plot(kind = 'bar',ax = axes[1,1])\n",
    "axes[1,1].set_title('Disney')\n",
    "axes[1,1].set_xlabel('')\n",
    "\n",
    "plt.tight_layout()\n",
    "fig.text(0.5, 0.004, 'Genre', ha='center',fontsize = 'large')\n",
    "fig.text(0.004, 0.5, 'Count', va='center', rotation='vertical',fontsize = 'large')"
   ]
  },
  {
   "cell_type": "markdown",
   "metadata": {},
   "source": [
    "By the graph plotted, lets understand the relationship between genre and platforms.\n",
    "\n",
    "__Netflix:__\n",
    "* Genre of 'Drama' has 1500+ movies.\n",
    "* It is followed by comedy which is around 1300+.\n",
    "* Then 'Thriller','Romance','Action','Documentry' has equally distributed.\n",
    "\n",
    "__Prime Video:__\n",
    "\n",
    "* Genre of 'Drama' has 5000+ movies.\n",
    "* It is followed by comedy and thriller which is around 2500+ movies.\n",
    "* 'Action' comes next.\n",
    "\n",
    "__Hulu:__\n",
    "\n",
    "* Here also 'Drama' comes first which has around 450+ movies.\n",
    "* 'Comedy' and 'Thriller' follows 'Drama'.\n",
    "\n",
    "__Disney:__\n",
    "\n",
    "* Unlike other 3 platforms , 'Family' has the leading position with 450+ movies.\n",
    "* Then 'comedy' and 'adventure' comes into play followed by 'Fantasy'.\n",
    "    \n",
    "From this we infer that ,\n",
    "*  __'Disney+'__ is more suitable for kids as well as family.\n",
    "*  __Netflix__ and __Prime Video__ is more suitable for people who enjoy 'Drama' and 'Comedy'."
   ]
  },
  {
   "cell_type": "markdown",
   "metadata": {},
   "source": [
    "##### Genre vs ratings"
   ]
  },
  {
   "cell_type": "code",
   "execution_count": 88,
   "metadata": {
    "scrolled": true
   },
   "outputs": [
    {
     "data": {
      "text/html": [
       "<div>\n",
       "<style scoped>\n",
       "    .dataframe tbody tr th:only-of-type {\n",
       "        vertical-align: middle;\n",
       "    }\n",
       "\n",
       "    .dataframe tbody tr th {\n",
       "        vertical-align: top;\n",
       "    }\n",
       "\n",
       "    .dataframe thead th {\n",
       "        text-align: right;\n",
       "    }\n",
       "</style>\n",
       "<table border=\"1\" class=\"dataframe\">\n",
       "  <thead>\n",
       "    <tr style=\"text-align: right;\">\n",
       "      <th></th>\n",
       "      <th>IMDb</th>\n",
       "    </tr>\n",
       "    <tr>\n",
       "      <th>Genre</th>\n",
       "      <th></th>\n",
       "    </tr>\n",
       "  </thead>\n",
       "  <tbody>\n",
       "    <tr>\n",
       "      <th>Action</th>\n",
       "      <td>5.6</td>\n",
       "    </tr>\n",
       "    <tr>\n",
       "      <th>Adventure</th>\n",
       "      <td>5.8</td>\n",
       "    </tr>\n",
       "    <tr>\n",
       "      <th>Animation</th>\n",
       "      <td>6.3</td>\n",
       "    </tr>\n",
       "    <tr>\n",
       "      <th>Biography</th>\n",
       "      <td>6.9</td>\n",
       "    </tr>\n",
       "    <tr>\n",
       "      <th>Comedy</th>\n",
       "      <td>6.1</td>\n",
       "    </tr>\n",
       "    <tr>\n",
       "      <th>Crime</th>\n",
       "      <td>6.0</td>\n",
       "    </tr>\n",
       "    <tr>\n",
       "      <th>Documentary</th>\n",
       "      <td>7.0</td>\n",
       "    </tr>\n",
       "    <tr>\n",
       "      <th>Drama</th>\n",
       "      <td>6.2</td>\n",
       "    </tr>\n",
       "    <tr>\n",
       "      <th>Family</th>\n",
       "      <td>6.1</td>\n",
       "    </tr>\n",
       "    <tr>\n",
       "      <th>Fantasy</th>\n",
       "      <td>5.9</td>\n",
       "    </tr>\n",
       "    <tr>\n",
       "      <th>Film-Noir</th>\n",
       "      <td>6.4</td>\n",
       "    </tr>\n",
       "    <tr>\n",
       "      <th>Game-Show</th>\n",
       "      <td>6.2</td>\n",
       "    </tr>\n",
       "    <tr>\n",
       "      <th>History</th>\n",
       "      <td>6.8</td>\n",
       "    </tr>\n",
       "    <tr>\n",
       "      <th>Horror</th>\n",
       "      <td>4.8</td>\n",
       "    </tr>\n",
       "    <tr>\n",
       "      <th>Music</th>\n",
       "      <td>6.6</td>\n",
       "    </tr>\n",
       "    <tr>\n",
       "      <th>Musical</th>\n",
       "      <td>6.4</td>\n",
       "    </tr>\n",
       "    <tr>\n",
       "      <th>Mystery</th>\n",
       "      <td>5.8</td>\n",
       "    </tr>\n",
       "    <tr>\n",
       "      <th>NA</th>\n",
       "      <td>6.1</td>\n",
       "    </tr>\n",
       "    <tr>\n",
       "      <th>News</th>\n",
       "      <td>7.2</td>\n",
       "    </tr>\n",
       "    <tr>\n",
       "      <th>Reality-TV</th>\n",
       "      <td>6.0</td>\n",
       "    </tr>\n",
       "    <tr>\n",
       "      <th>Romance</th>\n",
       "      <td>6.1</td>\n",
       "    </tr>\n",
       "    <tr>\n",
       "      <th>Sci-Fi</th>\n",
       "      <td>5.1</td>\n",
       "    </tr>\n",
       "    <tr>\n",
       "      <th>Short</th>\n",
       "      <td>6.5</td>\n",
       "    </tr>\n",
       "    <tr>\n",
       "      <th>Sport</th>\n",
       "      <td>6.5</td>\n",
       "    </tr>\n",
       "    <tr>\n",
       "      <th>Talk-Show</th>\n",
       "      <td>6.1</td>\n",
       "    </tr>\n",
       "    <tr>\n",
       "      <th>Thriller</th>\n",
       "      <td>5.5</td>\n",
       "    </tr>\n",
       "    <tr>\n",
       "      <th>War</th>\n",
       "      <td>6.4</td>\n",
       "    </tr>\n",
       "    <tr>\n",
       "      <th>Western</th>\n",
       "      <td>6.0</td>\n",
       "    </tr>\n",
       "  </tbody>\n",
       "</table>\n",
       "</div>"
      ],
      "text/plain": [
       "             IMDb\n",
       "Genre            \n",
       "Action        5.6\n",
       "Adventure     5.8\n",
       "Animation     6.3\n",
       "Biography     6.9\n",
       "Comedy        6.1\n",
       "Crime         6.0\n",
       "Documentary   7.0\n",
       "Drama         6.2\n",
       "Family        6.1\n",
       "Fantasy       5.9\n",
       "Film-Noir     6.4\n",
       "Game-Show     6.2\n",
       "History       6.8\n",
       "Horror        4.8\n",
       "Music         6.6\n",
       "Musical       6.4\n",
       "Mystery       5.8\n",
       "NA            6.1\n",
       "News          7.2\n",
       "Reality-TV    6.0\n",
       "Romance       6.1\n",
       "Sci-Fi        5.1\n",
       "Short         6.5\n",
       "Sport         6.5\n",
       "Talk-Show     6.1\n",
       "Thriller      5.5\n",
       "War           6.4\n",
       "Western       6.0"
      ]
     },
     "execution_count": 88,
     "metadata": {},
     "output_type": "execute_result"
    }
   ],
   "source": [
    "G_ratings = Genre.groupby('Genre')['IMDb'].median()\n",
    "G_ratings = G_ratings.reset_index().set_index('Genre')\n",
    "G_ratings"
   ]
  },
  {
   "cell_type": "code",
   "execution_count": 89,
   "metadata": {},
   "outputs": [
    {
     "data": {
      "text/plain": [
       "Genre\n",
       "Drama        6.2\n",
       "Comedy       6.1\n",
       "Thriller     5.5\n",
       "Action       5.6\n",
       "Romance      6.1\n",
       "Crime        6.0\n",
       "Adventure    5.8\n",
       "Horror       4.8\n",
       "Family       6.1\n",
       "Mystery      5.8\n",
       "Name: IMDb, dtype: float64"
      ]
     },
     "execution_count": 89,
     "metadata": {},
     "output_type": "execute_result"
    }
   ],
   "source": [
    "Top_10_genre = G_ratings.loc[['Drama','Comedy','Thriller','Action','Romance','Crime','Adventure','Horror','Family','Mystery'],'IMDb']\n",
    "Top_10_genre"
   ]
  },
  {
   "cell_type": "code",
   "execution_count": 90,
   "metadata": {},
   "outputs": [
    {
     "data": {
      "text/html": [
       "<div>\n",
       "<style scoped>\n",
       "    .dataframe tbody tr th:only-of-type {\n",
       "        vertical-align: middle;\n",
       "    }\n",
       "\n",
       "    .dataframe tbody tr th {\n",
       "        vertical-align: top;\n",
       "    }\n",
       "\n",
       "    .dataframe thead th {\n",
       "        text-align: right;\n",
       "    }\n",
       "</style>\n",
       "<table border=\"1\" class=\"dataframe\">\n",
       "  <thead>\n",
       "    <tr style=\"text-align: right;\">\n",
       "      <th></th>\n",
       "      <th>IMDb</th>\n",
       "    </tr>\n",
       "    <tr>\n",
       "      <th>Genre</th>\n",
       "      <th></th>\n",
       "    </tr>\n",
       "  </thead>\n",
       "  <tbody>\n",
       "    <tr>\n",
       "      <th>Drama</th>\n",
       "      <td>6.2</td>\n",
       "    </tr>\n",
       "    <tr>\n",
       "      <th>Comedy</th>\n",
       "      <td>6.1</td>\n",
       "    </tr>\n",
       "    <tr>\n",
       "      <th>Thriller</th>\n",
       "      <td>5.5</td>\n",
       "    </tr>\n",
       "    <tr>\n",
       "      <th>Action</th>\n",
       "      <td>5.6</td>\n",
       "    </tr>\n",
       "    <tr>\n",
       "      <th>Romance</th>\n",
       "      <td>6.1</td>\n",
       "    </tr>\n",
       "    <tr>\n",
       "      <th>Crime</th>\n",
       "      <td>6.0</td>\n",
       "    </tr>\n",
       "    <tr>\n",
       "      <th>Adventure</th>\n",
       "      <td>5.8</td>\n",
       "    </tr>\n",
       "    <tr>\n",
       "      <th>Horror</th>\n",
       "      <td>4.8</td>\n",
       "    </tr>\n",
       "    <tr>\n",
       "      <th>Family</th>\n",
       "      <td>6.1</td>\n",
       "    </tr>\n",
       "    <tr>\n",
       "      <th>Mystery</th>\n",
       "      <td>5.8</td>\n",
       "    </tr>\n",
       "  </tbody>\n",
       "</table>\n",
       "</div>"
      ],
      "text/plain": [
       "           IMDb\n",
       "Genre          \n",
       "Drama       6.2\n",
       "Comedy      6.1\n",
       "Thriller    5.5\n",
       "Action      5.6\n",
       "Romance     6.1\n",
       "Crime       6.0\n",
       "Adventure   5.8\n",
       "Horror      4.8\n",
       "Family      6.1\n",
       "Mystery     5.8"
      ]
     },
     "execution_count": 90,
     "metadata": {},
     "output_type": "execute_result"
    }
   ],
   "source": [
    "Top_10_genre = Top_10_genre.reset_index().set_index('Genre')\n",
    "Top_10_genre"
   ]
  },
  {
   "cell_type": "code",
   "execution_count": 91,
   "metadata": {},
   "outputs": [
    {
     "data": {
      "text/plain": [
       "(array([0, 1, 2, 3, 4, 5, 6, 7, 8, 9]), <a list of 10 Text xticklabel objects>)"
      ]
     },
     "execution_count": 91,
     "metadata": {},
     "output_type": "execute_result"
    },
    {
     "data": {
      "image/png": "[encoded data removed]",
      "text/plain": [
       "<Figure size 576x360 with 1 Axes>"
      ]
     },
     "metadata": {
      "needs_background": "light"
     },
     "output_type": "display_data"
    }
   ],
   "source": [
    "plt.figure(figsize=(8,5))\n",
    "sns.barplot(x=Top_10_genre.index,y=Top_10_genre['IMDb'])\n",
    "plt.xticks(rotation = 90)"
   ]
  },
  {
   "cell_type": "markdown",
   "metadata": {},
   "source": [
    "\n",
    "Based on the movie count , Top 10 genres have been chosen.\n",
    "\n",
    "* With help of this, we can say that all genres have the median rating around 5.8 - 6.2\n",
    "\n",
    "* 'Family' and 'Drama' has highest median rating of 6.2"
   ]
  },
  {
   "cell_type": "markdown",
   "metadata": {},
   "source": [
    "##### Genre vs Age"
   ]
  },
  {
   "cell_type": "code",
   "execution_count": null,
   "metadata": {},
   "outputs": [],
   "source": []
  },
  {
   "cell_type": "markdown",
   "metadata": {},
   "source": [
    "#### Directors"
   ]
  },
  {
   "cell_type": "markdown",
   "metadata": {},
   "source": [
    "A film director controls a film's artistic and dramatic aspects and visualizes the screenplay (or script) while guiding the technical crew and actors in the fulfilment of that vision. The director has a key role in choosing the cast members, production design and all the creative aspects of filmmaking."
   ]
  },
  {
   "cell_type": "markdown",
   "metadata": {},
   "source": [
    "##### Director vs platforms"
   ]
  },
  {
   "cell_type": "code",
   "execution_count": 92,
   "metadata": {},
   "outputs": [
    {
     "data": {
      "text/html": [
       "<div>\n",
       "<style scoped>\n",
       "    .dataframe tbody tr th:only-of-type {\n",
       "        vertical-align: middle;\n",
       "    }\n",
       "\n",
       "    .dataframe tbody tr th {\n",
       "        vertical-align: top;\n",
       "    }\n",
       "\n",
       "    .dataframe thead th {\n",
       "        text-align: right;\n",
       "    }\n",
       "</style>\n",
       "<table border=\"1\" class=\"dataframe\">\n",
       "  <thead>\n",
       "    <tr style=\"text-align: right;\">\n",
       "      <th></th>\n",
       "      <th>Director</th>\n",
       "    </tr>\n",
       "    <tr>\n",
       "      <th>index</th>\n",
       "      <th></th>\n",
       "    </tr>\n",
       "  </thead>\n",
       "  <tbody>\n",
       "    <tr>\n",
       "      <th>Jan Suter</th>\n",
       "      <td>21</td>\n",
       "    </tr>\n",
       "    <tr>\n",
       "      <th>Raúl Campos</th>\n",
       "      <td>21</td>\n",
       "    </tr>\n",
       "    <tr>\n",
       "      <th>Marcus Raboy</th>\n",
       "      <td>16</td>\n",
       "    </tr>\n",
       "    <tr>\n",
       "      <th>Jay Karas</th>\n",
       "      <td>15</td>\n",
       "    </tr>\n",
       "    <tr>\n",
       "      <th>Jay Chapman</th>\n",
       "      <td>12</td>\n",
       "    </tr>\n",
       "    <tr>\n",
       "      <th>...</th>\n",
       "      <td>...</td>\n",
       "    </tr>\n",
       "    <tr>\n",
       "      <th>Oliver Parker</th>\n",
       "      <td>1</td>\n",
       "    </tr>\n",
       "    <tr>\n",
       "      <th>Smriti Keshari</th>\n",
       "      <td>1</td>\n",
       "    </tr>\n",
       "    <tr>\n",
       "      <th>Swarna Latha</th>\n",
       "      <td>1</td>\n",
       "    </tr>\n",
       "    <tr>\n",
       "      <th>Mike Hodges</th>\n",
       "      <td>1</td>\n",
       "    </tr>\n",
       "    <tr>\n",
       "      <th>Marc Levin</th>\n",
       "      <td>1</td>\n",
       "    </tr>\n",
       "  </tbody>\n",
       "</table>\n",
       "<p>3022 rows × 1 columns</p>\n",
       "</div>"
      ],
      "text/plain": [
       "                Director\n",
       "index                   \n",
       "Jan Suter             21\n",
       "Raúl Campos           21\n",
       "Marcus Raboy          16\n",
       "Jay Karas             15\n",
       "Jay Chapman           12\n",
       "...                  ...\n",
       "Oliver Parker          1\n",
       "Smriti Keshari         1\n",
       "Swarna Latha           1\n",
       "Mike Hodges            1\n",
       "Marc Levin             1\n",
       "\n",
       "[3022 rows x 1 columns]"
      ]
     },
     "execution_count": 92,
     "metadata": {},
     "output_type": "execute_result"
    }
   ],
   "source": [
    "D_Netflix = Dir.loc[Dir['Netflix'] == 1,'Director'].value_counts().reset_index().set_index('index').drop('NA',axis =0)\n",
    "D_Prime =  Dir.loc[Dir['Prime Video'] == 1,'Director'].value_counts().reset_index().set_index('index').drop('NA',axis =0)\n",
    "D_Hulu = Dir.loc[Dir['Hulu'] == 1,'Director'].value_counts().reset_index().set_index('index').drop('NA',axis =0)\n",
    "D_Disney = Dir.loc[Dir['Disney+'] == 1,'Director'].value_counts().reset_index().set_index('index').drop('NA',axis =0)\n",
    "\n",
    "D_Netflix"
   ]
  },
  {
   "cell_type": "code",
   "execution_count": 93,
   "metadata": {},
   "outputs": [
    {
     "data": {
      "text/plain": [
       "Text(0.004, 0.5, 'Count')"
      ]
     },
     "execution_count": 93,
     "metadata": {},
     "output_type": "execute_result"
    },
    {
     "data": {
      "image/png": "[encoded data removed]",
      "text/plain": [
       "<Figure size 864x864 with 4 Axes>"
      ]
     },
     "metadata": {
      "needs_background": "light"
     },
     "output_type": "display_data"
    }
   ],
   "source": [
    "fig,axes = plt.subplots(2,2,figsize=(12,12))\n",
    "D_Netflix.head(10).plot(kind = 'bar',ax = axes[0,0],color = 'brown')\n",
    "axes[0,0].set_title('Netflix')\n",
    "axes[0,0].set_xlabel('')\n",
    "axes[0,0].set_ylabel('')\n",
    "\n",
    "\n",
    "D_Prime.head(10).plot(kind = 'bar',ax = axes[0,1],color = 'green')\n",
    "axes[0,1].set_title('Prime Video')\n",
    "axes[0,1].set_xlabel('')\n",
    "axes[0,1].set_ylabel('')\n",
    "\n",
    "\n",
    "D_Hulu.head(10).plot(kind = 'bar',ax = axes[1,0],color = 'gray')\n",
    "axes[1,0].set_title('Hulu')\n",
    "axes[1,0].set_xlabel('')\n",
    "axes[1,0].set_ylabel('')\n",
    "\n",
    "\n",
    "\n",
    "D_Disney.head(10).plot(kind = 'bar',ax = axes[1,1])\n",
    "axes[1,1].set_title('Disney')\n",
    "axes[1,1].set_xlabel('')\n",
    "axes[1,1].set_ylabel('')\n",
    "\n",
    "fig.tight_layout()\n",
    "fig.text(0.5, 0.004, 'Director', ha='center',fontsize = 'large')\n",
    "fig.text(0.004, 0.5, 'Count', va='center', rotation='vertical',fontsize = 'large')"
   ]
  },
  {
   "cell_type": "markdown",
   "metadata": {},
   "source": [
    "Relationship between Director and platforms is shown.\n",
    "\n",
    "__Netflix:__\n",
    "* 'Jan suter' and 'Raul campos' leads the Netflix platform by their movies with 20+ movies each.\n",
    "    \n",
    "__Prime Video:__\n",
    "* 'Joseph kane' leads the prime video platform with more than 30+ movies.\n",
    "* Then followed by 'Jay Chapman'.\n",
    "    \n",
    "__Hulu:__\n",
    "* 'Tyler Perry' and 'Steve Holland' has around 5+ movies in Hulu. \n",
    "\n",
    "__Disney+:__\n",
    "*  'Paul Hoen' leads the disney platform by 15+ movies.\n",
    "*  'James alagar' follows him with 11+ Movies."
   ]
  },
  {
   "cell_type": "markdown",
   "metadata": {},
   "source": [
    "##### Director vs ratings:"
   ]
  },
  {
   "cell_type": "code",
   "execution_count": 94,
   "metadata": {
    "scrolled": true
   },
   "outputs": [
    {
     "data": {
      "text/html": [
       "<div>\n",
       "<style scoped>\n",
       "    .dataframe tbody tr th:only-of-type {\n",
       "        vertical-align: middle;\n",
       "    }\n",
       "\n",
       "    .dataframe tbody tr th {\n",
       "        vertical-align: top;\n",
       "    }\n",
       "\n",
       "    .dataframe thead th {\n",
       "        text-align: right;\n",
       "    }\n",
       "</style>\n",
       "<table border=\"1\" class=\"dataframe\">\n",
       "  <thead>\n",
       "    <tr style=\"text-align: right;\">\n",
       "      <th></th>\n",
       "      <th>IMDb</th>\n",
       "    </tr>\n",
       "    <tr>\n",
       "      <th>Director</th>\n",
       "      <th></th>\n",
       "    </tr>\n",
       "  </thead>\n",
       "  <tbody>\n",
       "    <tr>\n",
       "      <th>A'Ali de Sousa</th>\n",
       "      <td>4.20</td>\n",
       "    </tr>\n",
       "    <tr>\n",
       "      <th>A. Bhimsingh</th>\n",
       "      <td>7.30</td>\n",
       "    </tr>\n",
       "    <tr>\n",
       "      <th>A. Edward Sutherland</th>\n",
       "      <td>6.25</td>\n",
       "    </tr>\n",
       "    <tr>\n",
       "      <th>A. Fishman</th>\n",
       "      <td>7.30</td>\n",
       "    </tr>\n",
       "    <tr>\n",
       "      <th>A. Jagadesh</th>\n",
       "      <td>3.50</td>\n",
       "    </tr>\n",
       "    <tr>\n",
       "      <th>...</th>\n",
       "      <td>...</td>\n",
       "    </tr>\n",
       "    <tr>\n",
       "      <th>Émile Gaudreault</th>\n",
       "      <td>6.70</td>\n",
       "    </tr>\n",
       "    <tr>\n",
       "      <th>Ómar Örn Hauksson</th>\n",
       "      <td>4.90</td>\n",
       "    </tr>\n",
       "    <tr>\n",
       "      <th>Óskar Thór Axelsson</th>\n",
       "      <td>6.10</td>\n",
       "    </tr>\n",
       "    <tr>\n",
       "      <th>Ömer Faruk Sorak</th>\n",
       "      <td>8.00</td>\n",
       "    </tr>\n",
       "    <tr>\n",
       "      <th>Özcan Alper</th>\n",
       "      <td>6.60</td>\n",
       "    </tr>\n",
       "  </tbody>\n",
       "</table>\n",
       "<p>12454 rows × 1 columns</p>\n",
       "</div>"
      ],
      "text/plain": [
       "                      IMDb\n",
       "Director                  \n",
       "A'Ali de Sousa        4.20\n",
       "A. Bhimsingh          7.30\n",
       "A. Edward Sutherland  6.25\n",
       "A. Fishman            7.30\n",
       "A. Jagadesh           3.50\n",
       "...                    ...\n",
       "Émile Gaudreault      6.70\n",
       "Ómar Örn Hauksson     4.90\n",
       "Óskar Thór Axelsson   6.10\n",
       "Ömer Faruk Sorak      8.00\n",
       "Özcan Alper           6.60\n",
       "\n",
       "[12454 rows x 1 columns]"
      ]
     },
     "execution_count": 94,
     "metadata": {},
     "output_type": "execute_result"
    }
   ],
   "source": [
    "D_ratings = Dir.groupby('Director')['IMDb'].median()\n",
    "D_ratings = D_ratings.reset_index().set_index('Director')\n",
    "D_ratings"
   ]
  },
  {
   "cell_type": "code",
   "execution_count": 95,
   "metadata": {},
   "outputs": [
    {
     "data": {
      "text/plain": [
       "Director\n",
       "Jay Chapman         6.65\n",
       "Joseph Kane         6.20\n",
       "Cheh Chang          6.70\n",
       "Jim Wynorski        3.50\n",
       "William Beaudine    5.40\n",
       "Sam Newfield        5.60\n",
       "David DeCoteau      3.40\n",
       "Jay Karas           7.20\n",
       "Marcus Raboy        6.40\n",
       "William Witney      6.20\n",
       "Name: IMDb, dtype: float64"
      ]
     },
     "execution_count": 95,
     "metadata": {},
     "output_type": "execute_result"
    }
   ],
   "source": [
    "Top_10_dir = D_ratings.loc[['Jay Chapman','Joseph Kane','Cheh Chang','Jim Wynorski','William Beaudine','Sam Newfield','David DeCoteau','Jay Karas','Marcus Raboy','William Witney'],'IMDb']\n",
    "Top_10_dir"
   ]
  },
  {
   "cell_type": "code",
   "execution_count": 96,
   "metadata": {
    "scrolled": true
   },
   "outputs": [
    {
     "data": {
      "text/html": [
       "<div>\n",
       "<style scoped>\n",
       "    .dataframe tbody tr th:only-of-type {\n",
       "        vertical-align: middle;\n",
       "    }\n",
       "\n",
       "    .dataframe tbody tr th {\n",
       "        vertical-align: top;\n",
       "    }\n",
       "\n",
       "    .dataframe thead th {\n",
       "        text-align: right;\n",
       "    }\n",
       "</style>\n",
       "<table border=\"1\" class=\"dataframe\">\n",
       "  <thead>\n",
       "    <tr style=\"text-align: right;\">\n",
       "      <th></th>\n",
       "      <th>IMDb</th>\n",
       "    </tr>\n",
       "    <tr>\n",
       "      <th>Director</th>\n",
       "      <th></th>\n",
       "    </tr>\n",
       "  </thead>\n",
       "  <tbody>\n",
       "    <tr>\n",
       "      <th>Jay Chapman</th>\n",
       "      <td>6.65</td>\n",
       "    </tr>\n",
       "    <tr>\n",
       "      <th>Joseph Kane</th>\n",
       "      <td>6.20</td>\n",
       "    </tr>\n",
       "    <tr>\n",
       "      <th>Cheh Chang</th>\n",
       "      <td>6.70</td>\n",
       "    </tr>\n",
       "    <tr>\n",
       "      <th>Jim Wynorski</th>\n",
       "      <td>3.50</td>\n",
       "    </tr>\n",
       "    <tr>\n",
       "      <th>William Beaudine</th>\n",
       "      <td>5.40</td>\n",
       "    </tr>\n",
       "    <tr>\n",
       "      <th>Sam Newfield</th>\n",
       "      <td>5.60</td>\n",
       "    </tr>\n",
       "    <tr>\n",
       "      <th>David DeCoteau</th>\n",
       "      <td>3.40</td>\n",
       "    </tr>\n",
       "    <tr>\n",
       "      <th>Jay Karas</th>\n",
       "      <td>7.20</td>\n",
       "    </tr>\n",
       "    <tr>\n",
       "      <th>Marcus Raboy</th>\n",
       "      <td>6.40</td>\n",
       "    </tr>\n",
       "    <tr>\n",
       "      <th>William Witney</th>\n",
       "      <td>6.20</td>\n",
       "    </tr>\n",
       "  </tbody>\n",
       "</table>\n",
       "</div>"
      ],
      "text/plain": [
       "                  IMDb\n",
       "Director              \n",
       "Jay Chapman       6.65\n",
       "Joseph Kane       6.20\n",
       "Cheh Chang        6.70\n",
       "Jim Wynorski      3.50\n",
       "William Beaudine  5.40\n",
       "Sam Newfield      5.60\n",
       "David DeCoteau    3.40\n",
       "Jay Karas         7.20\n",
       "Marcus Raboy      6.40\n",
       "William Witney    6.20"
      ]
     },
     "execution_count": 96,
     "metadata": {},
     "output_type": "execute_result"
    }
   ],
   "source": [
    "Top_10_dir = Top_10_dir.reset_index().set_index('Director')\n",
    "Top_10_dir"
   ]
  },
  {
   "cell_type": "code",
   "execution_count": 97,
   "metadata": {},
   "outputs": [
    {
     "data": {
      "text/plain": [
       "Text(0, 0.5, 'IMDb')"
      ]
     },
     "execution_count": 97,
     "metadata": {},
     "output_type": "execute_result"
    },
    {
     "data": {
      "image/png": "[encoded data removed]",
      "text/plain": [
       "<Figure size 576x360 with 1 Axes>"
      ]
     },
     "metadata": {
      "needs_background": "light"
     },
     "output_type": "display_data"
    }
   ],
   "source": [
    "plt.figure(figsize=(8,5))\n",
    "sns.barplot(x=Top_10_dir.index,y=Top_10_dir['IMDb'])\n",
    "plt.xticks(rotation = 90)\n",
    "plt.xlabel('Director',labelpad= 20)\n",
    "plt.ylabel('IMDb',labelpad = 20)"
   ]
  },
  {
   "cell_type": "markdown",
   "metadata": {},
   "source": [
    "Based on the total movie count, top 10 directors have been chosen and their median ratings have been displayed.\n",
    "'Jay Karas' grabs the first position based on the ratings followed by 'jay Chapman'."
   ]
  },
  {
   "cell_type": "markdown",
   "metadata": {},
   "source": [
    "#### Rating"
   ]
  },
  {
   "cell_type": "markdown",
   "metadata": {},
   "source": [
    "A high IMDb rating makes an insignificant contribution towards a movie's success. Rating says how good the movie is and decides whether it can be watched or not. "
   ]
  },
  {
   "cell_type": "code",
   "execution_count": 98,
   "metadata": {
    "scrolled": false
   },
   "outputs": [
    {
     "data": {
      "text/plain": [
       "<matplotlib.axes._subplots.AxesSubplot at 0x1c226b6fb08>"
      ]
     },
     "execution_count": 98,
     "metadata": {},
     "output_type": "execute_result"
    },
    {
     "data": {
      "image/png": "[encoded data removed]",
      "text/plain": [
       "<Figure size 1440x504 with 2 Axes>"
      ]
     },
     "metadata": {
      "needs_background": "light"
     },
     "output_type": "display_data"
    }
   ],
   "source": [
    "f,ax=plt.subplots(1,2,figsize=(20,7))\n",
    "sns.distplot(Movies['IMDb'],bins=20,kde=True,color='r',ax=ax[0])\n",
    "sns.boxplot(Movies['IMDb'],ax=ax[1],color='r',saturation=0.5)\n"
   ]
  },
  {
   "cell_type": "markdown",
   "metadata": {},
   "source": [
    "* The average rating lies lies between 5-7. \n",
    "Also there are some outliers present.\n",
    "* The movie is considered to be extraordinary when the rating lies above 8.\n",
    "The movie is considered to be good if the rating lies between 6 - 8."
   ]
  },
  {
   "cell_type": "markdown",
   "metadata": {},
   "source": [
    "## Movies in India"
   ]
  },
  {
   "cell_type": "markdown",
   "metadata": {},
   "source": [
    "##### Indian Language Movies"
   ]
  },
  {
   "cell_type": "code",
   "execution_count": 99,
   "metadata": {},
   "outputs": [
    {
     "data": {
      "text/html": [
       "<div>\n",
       "<style scoped>\n",
       "    .dataframe tbody tr th:only-of-type {\n",
       "        vertical-align: middle;\n",
       "    }\n",
       "\n",
       "    .dataframe tbody tr th {\n",
       "        vertical-align: top;\n",
       "    }\n",
       "\n",
       "    .dataframe thead th {\n",
       "        text-align: right;\n",
       "    }\n",
       "</style>\n",
       "<table border=\"1\" class=\"dataframe\">\n",
       "  <thead>\n",
       "    <tr style=\"text-align: right;\">\n",
       "      <th></th>\n",
       "      <th>Title</th>\n",
       "      <th>Year</th>\n",
       "      <th>Age</th>\n",
       "      <th>IMDb</th>\n",
       "      <th>Netflix</th>\n",
       "      <th>Hulu</th>\n",
       "      <th>Prime Video</th>\n",
       "      <th>Disney+</th>\n",
       "      <th>Type</th>\n",
       "      <th>Directors</th>\n",
       "      <th>Genres</th>\n",
       "      <th>Country</th>\n",
       "      <th>Runtime</th>\n",
       "      <th>Language</th>\n",
       "    </tr>\n",
       "  </thead>\n",
       "  <tbody>\n",
       "    <tr>\n",
       "      <th>11</th>\n",
       "      <td>3 Idiots</td>\n",
       "      <td>2009</td>\n",
       "      <td>13</td>\n",
       "      <td>8.4</td>\n",
       "      <td>1</td>\n",
       "      <td>0</td>\n",
       "      <td>1</td>\n",
       "      <td>0</td>\n",
       "      <td>0</td>\n",
       "      <td>Rajkumar Hirani</td>\n",
       "      <td>Comedy,Drama</td>\n",
       "      <td>India</td>\n",
       "      <td>170</td>\n",
       "      <td>Hindi</td>\n",
       "    </tr>\n",
       "    <tr>\n",
       "      <th>11</th>\n",
       "      <td>3 Idiots</td>\n",
       "      <td>2009</td>\n",
       "      <td>13</td>\n",
       "      <td>8.4</td>\n",
       "      <td>1</td>\n",
       "      <td>0</td>\n",
       "      <td>1</td>\n",
       "      <td>0</td>\n",
       "      <td>0</td>\n",
       "      <td>Rajkumar Hirani</td>\n",
       "      <td>Comedy,Drama</td>\n",
       "      <td>India</td>\n",
       "      <td>170</td>\n",
       "      <td>English</td>\n",
       "    </tr>\n",
       "    <tr>\n",
       "      <th>34</th>\n",
       "      <td>Dangal</td>\n",
       "      <td>2016</td>\n",
       "      <td>7</td>\n",
       "      <td>8.4</td>\n",
       "      <td>1</td>\n",
       "      <td>0</td>\n",
       "      <td>0</td>\n",
       "      <td>0</td>\n",
       "      <td>0</td>\n",
       "      <td>Nitesh Tiwari</td>\n",
       "      <td>Action,Biography,Drama,Sport</td>\n",
       "      <td>India</td>\n",
       "      <td>161</td>\n",
       "      <td>Hindi</td>\n",
       "    </tr>\n",
       "    <tr>\n",
       "      <th>38</th>\n",
       "      <td>Like Stars on Earth</td>\n",
       "      <td>2007</td>\n",
       "      <td>7</td>\n",
       "      <td>8.4</td>\n",
       "      <td>1</td>\n",
       "      <td>0</td>\n",
       "      <td>0</td>\n",
       "      <td>0</td>\n",
       "      <td>0</td>\n",
       "      <td>Aamir Khan,Amole Gupte</td>\n",
       "      <td>Drama,Family</td>\n",
       "      <td>India</td>\n",
       "      <td>165</td>\n",
       "      <td>Hindi</td>\n",
       "    </tr>\n",
       "    <tr>\n",
       "      <th>38</th>\n",
       "      <td>Like Stars on Earth</td>\n",
       "      <td>2007</td>\n",
       "      <td>7</td>\n",
       "      <td>8.4</td>\n",
       "      <td>1</td>\n",
       "      <td>0</td>\n",
       "      <td>0</td>\n",
       "      <td>0</td>\n",
       "      <td>0</td>\n",
       "      <td>Aamir Khan,Amole Gupte</td>\n",
       "      <td>Drama,Family</td>\n",
       "      <td>India</td>\n",
       "      <td>165</td>\n",
       "      <td>English</td>\n",
       "    </tr>\n",
       "    <tr>\n",
       "      <th>...</th>\n",
       "      <td>...</td>\n",
       "      <td>...</td>\n",
       "      <td>...</td>\n",
       "      <td>...</td>\n",
       "      <td>...</td>\n",
       "      <td>...</td>\n",
       "      <td>...</td>\n",
       "      <td>...</td>\n",
       "      <td>...</td>\n",
       "      <td>...</td>\n",
       "      <td>...</td>\n",
       "      <td>...</td>\n",
       "      <td>...</td>\n",
       "      <td>...</td>\n",
       "    </tr>\n",
       "    <tr>\n",
       "      <th>15820</th>\n",
       "      <td>Escape From Taliban</td>\n",
       "      <td>2003</td>\n",
       "      <td>0</td>\n",
       "      <td>4.5</td>\n",
       "      <td>0</td>\n",
       "      <td>0</td>\n",
       "      <td>1</td>\n",
       "      <td>0</td>\n",
       "      <td>0</td>\n",
       "      <td>Ujjwal Chatterjee</td>\n",
       "      <td>Adventure,Drama,Thriller,War</td>\n",
       "      <td>India</td>\n",
       "      <td>166</td>\n",
       "      <td>Urdu</td>\n",
       "    </tr>\n",
       "    <tr>\n",
       "      <th>15822</th>\n",
       "      <td>Machine</td>\n",
       "      <td>2007</td>\n",
       "      <td>18</td>\n",
       "      <td>2.7</td>\n",
       "      <td>0</td>\n",
       "      <td>0</td>\n",
       "      <td>1</td>\n",
       "      <td>0</td>\n",
       "      <td>0</td>\n",
       "      <td>Abbas Alibhai Burmawalla,Mastan Alibhai Burmaw...</td>\n",
       "      <td>Action,Mystery,Romance,Thriller</td>\n",
       "      <td>India</td>\n",
       "      <td>148</td>\n",
       "      <td>Hindi</td>\n",
       "    </tr>\n",
       "    <tr>\n",
       "      <th>15854</th>\n",
       "      <td>KAALA (Malayalam)</td>\n",
       "      <td>2018</td>\n",
       "      <td>0</td>\n",
       "      <td>6.1</td>\n",
       "      <td>0</td>\n",
       "      <td>0</td>\n",
       "      <td>1</td>\n",
       "      <td>0</td>\n",
       "      <td>0</td>\n",
       "      <td>Anuraj</td>\n",
       "      <td>Short,Mystery</td>\n",
       "      <td>India</td>\n",
       "      <td>20</td>\n",
       "      <td>Malayalam</td>\n",
       "    </tr>\n",
       "    <tr>\n",
       "      <th>16064</th>\n",
       "      <td>Prathighatana</td>\n",
       "      <td>2014</td>\n",
       "      <td>0</td>\n",
       "      <td>6.1</td>\n",
       "      <td>0</td>\n",
       "      <td>0</td>\n",
       "      <td>1</td>\n",
       "      <td>0</td>\n",
       "      <td>0</td>\n",
       "      <td>Tammareddy Bharadwaja</td>\n",
       "      <td>Drama</td>\n",
       "      <td>India</td>\n",
       "      <td>117</td>\n",
       "      <td>Telugu</td>\n",
       "    </tr>\n",
       "    <tr>\n",
       "      <th>16735</th>\n",
       "      <td>Secrets of the King Cobra</td>\n",
       "      <td>2010</td>\n",
       "      <td>0</td>\n",
       "      <td>6.4</td>\n",
       "      <td>0</td>\n",
       "      <td>0</td>\n",
       "      <td>0</td>\n",
       "      <td>1</td>\n",
       "      <td>0</td>\n",
       "      <td>NA</td>\n",
       "      <td>Documentary</td>\n",
       "      <td>India</td>\n",
       "      <td>NA</td>\n",
       "      <td>English</td>\n",
       "    </tr>\n",
       "  </tbody>\n",
       "</table>\n",
       "<p>1392 rows × 14 columns</p>\n",
       "</div>"
      ],
      "text/plain": [
       "                           Title  Year  Age  IMDb  Netflix  Hulu  Prime Video  \\\n",
       "11                      3 Idiots  2009   13   8.4        1     0            1   \n",
       "11                      3 Idiots  2009   13   8.4        1     0            1   \n",
       "34                        Dangal  2016    7   8.4        1     0            0   \n",
       "38           Like Stars on Earth  2007    7   8.4        1     0            0   \n",
       "38           Like Stars on Earth  2007    7   8.4        1     0            0   \n",
       "...                          ...   ...  ...   ...      ...   ...          ...   \n",
       "15820        Escape From Taliban  2003    0   4.5        0     0            1   \n",
       "15822                    Machine  2007   18   2.7        0     0            1   \n",
       "15854          KAALA (Malayalam)  2018    0   6.1        0     0            1   \n",
       "16064              Prathighatana  2014    0   6.1        0     0            1   \n",
       "16735  Secrets of the King Cobra  2010    0   6.4        0     0            0   \n",
       "\n",
       "       Disney+  Type                                          Directors  \\\n",
       "11           0     0                                    Rajkumar Hirani   \n",
       "11           0     0                                    Rajkumar Hirani   \n",
       "34           0     0                                      Nitesh Tiwari   \n",
       "38           0     0                             Aamir Khan,Amole Gupte   \n",
       "38           0     0                             Aamir Khan,Amole Gupte   \n",
       "...        ...   ...                                                ...   \n",
       "15820        0     0                                  Ujjwal Chatterjee   \n",
       "15822        0     0  Abbas Alibhai Burmawalla,Mastan Alibhai Burmaw...   \n",
       "15854        0     0                                             Anuraj   \n",
       "16064        0     0                              Tammareddy Bharadwaja   \n",
       "16735        1     0                                                 NA   \n",
       "\n",
       "                                Genres Country Runtime   Language  \n",
       "11                        Comedy,Drama   India     170      Hindi  \n",
       "11                        Comedy,Drama   India     170    English  \n",
       "34        Action,Biography,Drama,Sport   India     161      Hindi  \n",
       "38                        Drama,Family   India     165      Hindi  \n",
       "38                        Drama,Family   India     165    English  \n",
       "...                                ...     ...     ...        ...  \n",
       "15820     Adventure,Drama,Thriller,War   India     166       Urdu  \n",
       "15822  Action,Mystery,Romance,Thriller   India     148      Hindi  \n",
       "15854                    Short,Mystery   India      20  Malayalam  \n",
       "16064                            Drama   India     117     Telugu  \n",
       "16735                      Documentary   India      NA    English  \n",
       "\n",
       "[1392 rows x 14 columns]"
      ]
     },
     "execution_count": 99,
     "metadata": {},
     "output_type": "execute_result"
    }
   ],
   "source": [
    "country = Movies[Movies['Country']=='India']\n",
    "country = country.drop('Language', axis=1).join(\n",
    "    country['Language'].str.split(',', expand=True).stack().reset_index(drop=True, level=1).rename('Language'))\n",
    "country"
   ]
  },
  {
   "cell_type": "code",
   "execution_count": 100,
   "metadata": {},
   "outputs": [
    {
     "data": {
      "text/html": [
       "<div>\n",
       "<style scoped>\n",
       "    .dataframe tbody tr th:only-of-type {\n",
       "        vertical-align: middle;\n",
       "    }\n",
       "\n",
       "    .dataframe tbody tr th {\n",
       "        vertical-align: top;\n",
       "    }\n",
       "\n",
       "    .dataframe thead th {\n",
       "        text-align: right;\n",
       "    }\n",
       "</style>\n",
       "<table border=\"1\" class=\"dataframe\">\n",
       "  <thead>\n",
       "    <tr style=\"text-align: right;\">\n",
       "      <th></th>\n",
       "      <th>Language</th>\n",
       "    </tr>\n",
       "    <tr>\n",
       "      <th>index</th>\n",
       "      <th></th>\n",
       "    </tr>\n",
       "  </thead>\n",
       "  <tbody>\n",
       "    <tr>\n",
       "      <th>Hindi</th>\n",
       "      <td>669</td>\n",
       "    </tr>\n",
       "    <tr>\n",
       "      <th>Tamil</th>\n",
       "      <td>144</td>\n",
       "    </tr>\n",
       "    <tr>\n",
       "      <th>English</th>\n",
       "      <td>143</td>\n",
       "    </tr>\n",
       "    <tr>\n",
       "      <th>Telugu</th>\n",
       "      <td>111</td>\n",
       "    </tr>\n",
       "    <tr>\n",
       "      <th>Malayalam</th>\n",
       "      <td>60</td>\n",
       "    </tr>\n",
       "    <tr>\n",
       "      <th>Marathi</th>\n",
       "      <td>59</td>\n",
       "    </tr>\n",
       "    <tr>\n",
       "      <th>Punjabi</th>\n",
       "      <td>54</td>\n",
       "    </tr>\n",
       "    <tr>\n",
       "      <th>Bengali</th>\n",
       "      <td>34</td>\n",
       "    </tr>\n",
       "    <tr>\n",
       "      <th>Urdu</th>\n",
       "      <td>30</td>\n",
       "    </tr>\n",
       "    <tr>\n",
       "      <th>Kannada</th>\n",
       "      <td>16</td>\n",
       "    </tr>\n",
       "  </tbody>\n",
       "</table>\n",
       "</div>"
      ],
      "text/plain": [
       "           Language\n",
       "index              \n",
       "Hindi           669\n",
       "Tamil           144\n",
       "English         143\n",
       "Telugu          111\n",
       "Malayalam        60\n",
       "Marathi          59\n",
       "Punjabi          54\n",
       "Bengali          34\n",
       "Urdu             30\n",
       "Kannada          16"
      ]
     },
     "execution_count": 100,
     "metadata": {},
     "output_type": "execute_result"
    }
   ],
   "source": [
    "Top_10_lang_india = country['Language'].value_counts().head(10).reset_index().set_index('index')\n",
    "Top_10_lang_india"
   ]
  },
  {
   "cell_type": "code",
   "execution_count": 101,
   "metadata": {},
   "outputs": [
    {
     "data": {
      "text/plain": [
       "Text(0, 0.5, 'count')"
      ]
     },
     "execution_count": 101,
     "metadata": {},
     "output_type": "execute_result"
    },
    {
     "data": {
      "image/png": "[encoded data removed]",
      "text/plain": [
       "<Figure size 576x360 with 1 Axes>"
      ]
     },
     "metadata": {
      "needs_background": "light"
     },
     "output_type": "display_data"
    }
   ],
   "source": [
    "plt.figure(figsize=(8,5))\n",
    "sns.barplot(x=Top_10_lang_india.index,y=Top_10_lang_india['Language'])\n",
    "plt.xticks(rotation = 90)\n",
    "plt.xlabel('Language',labelpad= 20)\n",
    "plt.ylabel('count',labelpad = 20)"
   ]
  },
  {
   "cell_type": "markdown",
   "metadata": {},
   "source": [
    "When it comes to Indian movies , \n",
    "* 'Hindi' hits every other language having movie count of 650+.\n",
    "* Then comes 'Tamil' and 'English' with countof 150+ movies each."
   ]
  },
  {
   "cell_type": "markdown",
   "metadata": {},
   "source": [
    "##### Indian Movies vs OTT platforms"
   ]
  },
  {
   "cell_type": "code",
   "execution_count": 102,
   "metadata": {},
   "outputs": [
    {
     "data": {
      "text/html": [
       "<div>\n",
       "<style scoped>\n",
       "    .dataframe tbody tr th:only-of-type {\n",
       "        vertical-align: middle;\n",
       "    }\n",
       "\n",
       "    .dataframe tbody tr th {\n",
       "        vertical-align: top;\n",
       "    }\n",
       "\n",
       "    .dataframe thead th {\n",
       "        text-align: right;\n",
       "    }\n",
       "</style>\n",
       "<table border=\"1\" class=\"dataframe\">\n",
       "  <thead>\n",
       "    <tr style=\"text-align: right;\">\n",
       "      <th></th>\n",
       "      <th>platform</th>\n",
       "      <th>ImCount</th>\n",
       "    </tr>\n",
       "  </thead>\n",
       "  <tbody>\n",
       "    <tr>\n",
       "      <th>0</th>\n",
       "      <td>Netflix</td>\n",
       "      <td>723</td>\n",
       "    </tr>\n",
       "    <tr>\n",
       "      <th>1</th>\n",
       "      <td>Hulu</td>\n",
       "      <td>5</td>\n",
       "    </tr>\n",
       "    <tr>\n",
       "      <th>2</th>\n",
       "      <td>Prime Video</td>\n",
       "      <td>800</td>\n",
       "    </tr>\n",
       "    <tr>\n",
       "      <th>3</th>\n",
       "      <td>Disney+</td>\n",
       "      <td>1</td>\n",
       "    </tr>\n",
       "  </tbody>\n",
       "</table>\n",
       "</div>"
      ],
      "text/plain": [
       "      platform  ImCount\n",
       "0      Netflix      723\n",
       "1         Hulu        5\n",
       "2  Prime Video      800\n",
       "3      Disney+        1"
      ]
     },
     "execution_count": 102,
     "metadata": {},
     "output_type": "execute_result"
    }
   ],
   "source": [
    "Im_count = {'platform':['Netflix','Hulu','Prime Video','Disney+'],\n",
    "            'ImCount':[country['Netflix'].sum(),country['Hulu'].sum(),country['Prime Video'].sum(),country['Disney+'].sum()]}\n",
    "\n",
    "Im_count = pd.DataFrame(Im_count)\n",
    "Im_count"
   ]
  },
  {
   "cell_type": "code",
   "execution_count": 103,
   "metadata": {},
   "outputs": [
    {
     "data": {
      "text/plain": [
       "Text(0, 0.5, 'count')"
      ]
     },
     "execution_count": 103,
     "metadata": {},
     "output_type": "execute_result"
    },
    {
     "data": {
      "image/png": "[encoded data removed]",
      "text/plain": [
       "<Figure size 576x288 with 1 Axes>"
      ]
     },
     "metadata": {
      "needs_background": "light"
     },
     "output_type": "display_data"
    }
   ],
   "source": [
    "plt.figure(figsize=(8,4))\n",
    "sns.barplot(x='platform',y='ImCount',data = Im_count)\n",
    "plt.xlabel('OTT platform')\n",
    "plt.ylabel('count')"
   ]
  },
  {
   "cell_type": "markdown",
   "metadata": {},
   "source": [
    "* __Prime video__ and __Netflix__ are almost equal when comes to indian movies.\n",
    "* Prime video has 800+ and Netflix has 700+ movies. \n",
    "* These two platforms are preferred for Indian movies particularly 'Hindi' Language."
   ]
  },
  {
   "cell_type": "markdown",
   "metadata": {},
   "source": [
    "## Conclusion"
   ]
  },
  {
   "cell_type": "markdown",
   "metadata": {},
   "source": [
    "This kernel is an attempt to understand the distribution of movies over the OTT platforms. It tries to say about the selection \n",
    "of platform for the movies based on 'Director','Rating','Genre','Language' and so on.  Yet lot of new insights can be extracted on further exploration."
   ]
  }
 ],
 "metadata": {
  "kernelspec": {
   "display_name": "Python 3",
   "language": "python",
   "name": "python3"
  },
  "language_info": {
   "codemirror_mode": {
    "name": "ipython",
    "version": 3
   },
   "file_extension": ".py",
   "mimetype": "text/x-python",
   "name": "python",
   "nbconvert_exporter": "python",
   "pygments_lexer": "ipython3",
   "version": "3.7.7"
  }
 },
 "nbformat": 4,
 "nbformat_minor": 4
}
